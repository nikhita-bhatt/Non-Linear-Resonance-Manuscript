{
 "cells": [
  {
   "cell_type": "markdown",
   "id": "e12f78d8-c462-4c2c-a81d-c7d4f88ebace",
   "metadata": {},
   "source": [
    "# Summary 11 June 2024\n",
    "\n",
    "1-2pm, 128 Medical Sciences\n",
    "\n",
    "Code on GitHub: \n",
    "https://github.com/nikhita-bhatt/Non-Linear-Resonance-Manuscript/blob/main/ \n",
    "\n",
    "\n",
    "Needs checking: Robustness of results with respect to __variation of distance of h_ex__ from bifurcation point. \n",
    "\n",
    "Apart from h_ex, there is a __second source of heterogeneity__, namely the coupling. For identical h_ex parameters there will still be differential responses depending on the coupling’s contribution to the vicinity of the HC/SNIC bifurcation. \n",
    "\n",
    "Figure with __sEEG time series__ ::: Can be a single figure, preictal segment (as used for coupling matrix) plus ictal spiking with marking of onset time and onset time set to 0. No heat map. \n",
    "\n",
    "__Bonus figure__ ::: a simulation where the periodic excitation leads to spreading.\n",
    "\n",
    "Time series of N oscillator model with periodic driving could include __stopping the perturbation__ and return to stable state (to show how response stops when driving is switched off. \n",
    "\n",
    "__GitHub Desktop App__ allows local coding and pushing to repository - https://desktop.github.com \n",
    "\n",
    "GitHub is good for code but may not be the best for MS handling. \n",
    "\n",
    "How to add Jupyterlab App to GitHub:  https://saturncloud.io/blog/how-to-add-jupyter-notebook-to-github/  "
   ]
  },
  {
   "cell_type": "code",
   "execution_count": null,
   "id": "077a91f7-2adc-4e57-9f74-2d32bed00ca3",
   "metadata": {},
   "outputs": [],
   "source": []
  }
 ],
 "metadata": {
  "kernelspec": {
   "display_name": "Python 3 (ipykernel)",
   "language": "python",
   "name": "python3"
  },
  "language_info": {
   "codemirror_mode": {
    "name": "ipython",
    "version": 3
   },
   "file_extension": ".py",
   "mimetype": "text/x-python",
   "name": "python",
   "nbconvert_exporter": "python",
   "pygments_lexer": "ipython3",
   "version": "3.11.6"
  }
 },
 "nbformat": 4,
 "nbformat_minor": 5
}
