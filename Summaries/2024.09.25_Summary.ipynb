{
 "cells": [
  {
   "cell_type": "markdown",
   "id": "a35e8253-2033-49e8-9e99-48708878a834",
   "metadata": {},
   "source": [
    "# Nonlinear Resonance to Identify Susceptible Tissue in interictal sEEG\n",
    "\n",
    "25 September 2024\n",
    "\n",
    "- The Summary and Figure sequence on GitHub ReadMe is slightly revised and represents the main structure of the MS.\n",
    "\n",
    "- First part of Methods: PRISMA search. \n",
    "\n",
    "- There is now a single model function without and with perturbation in the N_oscillator model script. The single oscillator model script is corrected and has the same model without and with perturbation, so results should be OK.\n",
    "\n",
    "- Fig. 3 is the core results, now the first to be done for the SNIC case. Everything else should follow from the parameter settings used there.\n",
    "\n",
    "- Cases: There are two bifurcations. For each is the subcase of a single oscillator and that of N coupled oscillators. Each of these can be perturbed with single-pulse perturbation (amplitude-duration of pulse) scan and periodic perturbation (amplitude-frequency). Each of these should show some representative time series for specific perturbation parameters.\n",
    "\n",
    "- Fig 4 is a bonus figure showing spreading, particularly as a heatmap. No further details needed. Discussion of the possibility to induce a seizure and citation of Aileen McGonigal's work in focus localisation via habitual seizure induction.\n",
    "\n",
    "- Implementation of focus parameters (h_ex) and connectivity matrix from data needs robustness checking (at least over a range of parameters to see the limits).\n",
    "\n",
    "- I don't know how to describe the fine-structured 2D scan results other than saying they are complicated. There seems to be no accepted pattern language.\n",
    "\n",
    "- There is no finite frequency region in the frequency scan where there is a strong response, rather we see a single threshold. Is this still \"resonance\"?\n",
    "\n"
   ]
  },
  {
   "cell_type": "code",
   "execution_count": null,
   "id": "3a449aa1-7ec2-4878-b36d-51cdcbc63004",
   "metadata": {},
   "outputs": [],
   "source": []
  }
 ],
 "metadata": {
  "kernelspec": {
   "display_name": "Python 3 (ipykernel)",
   "language": "python",
   "name": "python3"
  },
  "language_info": {
   "codemirror_mode": {
    "name": "ipython",
    "version": 3
   },
   "file_extension": ".py",
   "mimetype": "text/x-python",
   "name": "python",
   "nbconvert_exporter": "python",
   "pygments_lexer": "ipython3",
   "version": "3.11.6"
  }
 },
 "nbformat": 4,
 "nbformat_minor": 5
}
