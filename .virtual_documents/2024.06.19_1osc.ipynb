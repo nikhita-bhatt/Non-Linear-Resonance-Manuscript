











from scipy.integrate import odeint

from scipy.signal import find_peaks

from numpy import zeros, ones, tanh, mod, linspace
from numpy import fill_diagonal, ndarray, amax, amin
from numpy import asarray, array, around, arange, corrcoef, flip, var, append
from numpy.random import default_rng

from matplotlib.pyplot import subplots

import sk_dsp_comm.sigsys as ss

from itertools import product






def sigmoid(u):
    return tanh(u)

def single_oscillator(y, t, h_ex, h_in, pars):

    tau_ex, tau_in, c1, c2, c3, c4 = pars

    dydt = (
        (h_ex - y[0] + c1*sigmoid(y[0]) - c2*sigmoid(y[1]))*tau_ex,
        (h_in - y[1] + c3*sigmoid(y[0]) - c4*sigmoid(y[1]))*tau_in,
       )

    return dydt

def single_oscillator_plus_driving(y, t, h_ex, h_in, pars, sr, time_stop, driving, driving_strength):

    tau_ex, tau_in, c1, c2, c3, c4 = pars
    
    index = int(t*sr)
    
    if index >= time_stop*sr:
    
        dydt = zeros(2)
        
        return dydt
    
    h_ex_driven = h_ex + driving_strength*driving[index]

    dydt = (
        (h_ex_driven - y[0] + c1*sigmoid(y[0]) - c2*sigmoid(y[1]))*tau_ex,
        (h_in        - y[1] + c3*sigmoid(y[0]) - c4*sigmoid(y[1]))*tau_in,
   )

    return dydt

def single_oscillator_pert(y, t, h_ex_p, h_in, pars, sr, time_stop):

    tau_ex, tau_in, c1, c2, c3, c4 = pars

    h_ex_index = int(t*sr)
    
    if h_ex_index >= time_stop*sr:

        dydt = zeros(2)
        
        return dydt
    
    dydt = (
        (h_ex_p[h_ex_index] - y[0] + c1*sigmoid(y[0]) - c2*sigmoid(y[1]))*tau_ex,
        (h_in               - y[1] + c3*sigmoid(y[0]) - c4*sigmoid(y[1]))*tau_in,
       )

    return dydt



def plot_series(time, data, time_begin, time_end, sr):

    fig, ax = subplots(figsize=(4, 3))

    ax.plot(time[time_begin*sr:time_end*sr], data[time_begin*sr:time_end*sr, 0], linewidth=2, c='b')
    ax.set_xticks(linspace(0, time_end-time_begin, 5));
    ax.set_xticklabels(linspace(0, time_end-time_begin, 5));
    ax.set_xlabel('Time', fontsize=12);
    ax.set_ylabel('Ex', fontsize=12)
    y_min, y_max = ax.get_ylim()
    ax.set_yticks(linspace(y_min, y_max, 3));
    ax.set_yticklabels(around(linspace(y_min, y_max, 3),1), fontsize=14);

    fig.tight_layout()
    
    return fig, ax



def plot_bifdiagram(results_min_f, results_max_f, 
                    results_min_b, results_max_b,
                    par_set):
    
    N = len(results_min_f)

    fig, ax = subplots(figsize=(4, 2.5))

    for xe, ye in zip(par_set, results_max_f[0]):

        if not isinstance(ye, ndarray):
            ax.scatter(xe, ye, c='k', s=20, marker='+')
        else:
            ax.scatter([xe] * len(ye), ye, c='b', s=20, marker='o')

    for xe, ye in zip(par_set, results_min_f[0]):

        if not isinstance(ye, ndarray):
            ax.scatter(xe, ye, c='k', s=20, marker='+')
        else:
            ax.scatter([xe] * len(ye), ye, c='b', s=20, marker='o')

    for xe, ye in zip(flip(par_set), results_max_b[0]):

        if not isinstance(ye, ndarray):
            ax.scatter(xe, ye, c='k', s=20, marker='+')
        else:
            ax.scatter([xe] * len(ye), ye, c='b', s=20, marker='o')

    for xe, ye in zip(flip(par_set), results_min_b[0]):

        if not isinstance(ye, ndarray):
            ax.scatter(xe, ye, c='k', s=20, marker='+')
        else:
            ax.scatter([xe] * len(ye), ye, c='b', s=20, marker='o')

    ax.set_xticks(linspace(par_min, par_max, 3));
    ax.set_xticklabels(around(linspace(par_min, par_max, 3), 2), fontsize=16);
    ax.set_xlabel('Parameter', fontsize=16)

    ax.set_ylabel('Ex', fontsize=14)

    y_min, y_max = ax.get_ylim()

    ax.set_yticks(linspace(y_min, y_max, 3));
    ax.set_yticklabels(around(linspace(y_min, y_max, 3),2), fontsize=14);


    fig.tight_layout()
    
    return fig, ax

def plot_bifdiagram_freq(results, freq_set):

    no_scans = len(results)

    if freq_set[-1] < freq_set[0]:
        
        freq_set = flip(freq_set)

    freq_min, freq_max = freq_set[0], freq_set[-1]

    fig, ax  = subplots(nrows=no_scans, figsize=(5, 4))

    for index, result in enumerate(results):
    
        results_min_f, results_max_f = result[0], result[1] 
     
        for xe, ye in zip(freq_set, results_max_f[0]):
    
            if not isinstance(ye, ndarray):
                ax[index].scatter(xe, ye, c='r', s=5)
            else:
                ax[index].scatter([xe] * len(ye), ye, c='b', s=10, marker='o')
      
        ax[index].set_xticks(linspace(freq_min, freq_max, 5));
        ax[index].set_xticklabels([]);
    
        ax[index].set_ylabel('Ex', fontsize=12)
    
        # y_min, y_max = ax[result].get_ylim()
        y_min, y_max = -3, 3

        ax[index].set_ylim(y_min, y_max)
        ax[index].set_yticks(linspace(y_min, y_max, 3))
        ax[index].set_yticklabels(linspace(y_min, y_max, 3))

    ax[index].set_xticks(linspace(freq_min, freq_max, 3));
    ax[index].set_xticklabels(around(linspace(freq_min, freq_max, 3), 2), fontsize=16);
    
    ax[index].set_xlabel('Parameter', fontsize=12)

    fig.tight_layout()
    
    return fig, ax





# Number of oscillators
N = 1

# Model Parameters
h_ex_0 = -2.4
h_in_0 = -4

eps  = 0.00001

SEED = 123

rng = default_rng(SEED)

if N == 1:

    h_ex_rand = h_ex_0
    h_in_rand = h_in_0

elif N > 1:

    h_ex_rand = h_ex_0 + eps*rng.normal(0,1,size=N)
    h_in_rand = h_in_0 + eps*rng.normal(0,1,size=N)

# Homoclinic / SNIC parameters
pars = (1, 1, 4, 4, 10, 0) # SNIC
pars = (1, 2, 4, 4, 10, 0) # Homoclinic / SN

# Time array
time_stop = 50
sr        = 1000
time      = linspace(start=0, stop=time_stop, num=time_stop*sr)






# Pick Initial conditions

SEED_2 = 12345

rng = default_rng(SEED_2)

# y_ini = rng.normal(size=2*N)*(-10)
y_ini = y[-1, :]

# Simulation
y = odeint(func=single_oscillator, y0=y_ini, t=time, 
          args=(h_ex_rand, h_in_rand, pars), 
          hmax=0.1)

y_last = y[-1, :]

# Show final values of all variables
print('End of run:', list(around(y_last, 3)))
print('')


time_begin, time_end = 0, time_stop

fig, ax = plot_series(time, y, time_begin, time_end, sr)

if pars[1] == 1:
    
    title_chars = 'Figs/N=1/Bifs_SNIC_h_ex.png'
    
elif pars[1] == 2:

    title_chars = 'Figs/N=1/Transient_Homoclinic_h_ex.png'
    
# fig.savefig(title_chars, format='png')

print(title_chars)









# Initial conditions
y_ini = y[-1, :]


# Bifurcation parameter range
steps = 30
par_min, par_max = -1.5, -2.7

par_set = linspace(par_min, par_max, steps)

# Stop time
time_stop = 500
time = linspace(start=0, stop=time_stop, num=time_stop*sr)


results_max_f      = dict()
results_max_inds_f = dict()
results_min_f      = dict()
results_min_inds_f = dict()

rows = time.size

# Simulation "forward"
for par in par_set:
    
    h_ex = par
    
    y_f = odeint(func=single_oscillator, y0=y_ini, t=time, 
             args=(h_ex, h_in_0, pars), 
             hmax=0.1)
 

    for num, series in enumerate(y_f[rows//2:,:-1:2].T):
                
        if var(series) < 0.0005:
            
            if num not in results_max_f:
                
                results_max_f[num]      = [series[-1]]
                results_max_inds_f[num] = [0]    
                results_min_f[num]      = [series[-1]]
                results_min_inds_f[num] = [0]    
                
            else:
                results_max_f[num].append(series[-1])
                results_max_inds_f[num].append(0)    
                results_min_f[num].append(series[-1])
                results_min_inds_f[num].append(0)               


        else:
            y_f_max_inds = find_peaks(series, distance=100)
            y_f_maxs     = series[y_f_max_inds[0]]

            y_f_min_inds = find_peaks(-series, distance=100)
            y_f_mins     = series[y_f_min_inds[0]]

            if num not in results_max_f:

                results_max_f[num]      = [y_f_maxs]
                results_max_inds_f[num] = [y_f_max_inds]
                results_min_f[num]      = [y_f_mins]    
                results_min_inds_f[num] = [y_f_min_inds]    

            else:

                results_max_f[num].append(y_f_maxs)
                results_max_inds_f[num].append(y_f_max_inds)
                results_min_f[num].append(y_f_mins)
                results_min_inds_f[num].append(y_f_min_inds)

    if par != par_set[-1]:
        
        y_ini = y_f[-1, :]


results_max_b      = dict()
results_max_inds_b = dict()
results_min_b      = dict()
results_min_inds_b = dict()

# Simulation "backward"
for par in flip(par_set):
    
    h_ex = par

    y_b = odeint(func=single_oscillator, y0=y_ini, t=time, 
             args=(h_ex, h_in_0, pars), 
             hmax=0.1)


    for num, series in enumerate(y_b[rows//2:,:-1:2].T):
        
        if var(series) < 0.0005:
            
            if num not in results_max_b:
                
                results_max_b[num]      = [series[-1]]
                results_max_inds_b[num] = [0]    
                results_min_b[num]      = [series[-1]]
                results_min_inds_b[num] = [0]    
                
            else:
                results_max_b[num].append(series[-1])
                results_max_inds_b[num].append(0)    
                results_min_b[num].append(series[-1])
                results_min_inds_b[num].append(0)               


        else:
            y_b_max_inds = find_peaks(series, distance=100)
            y_b_maxs     = series[y_b_max_inds[0]]

            y_b_min_inds = find_peaks(-series, distance=100)
            y_b_mins     = series[y_b_min_inds[0]]

            if num not in results_max_b:

                results_max_b[num]      = [y_b_maxs]
                results_max_inds_b[num] = [y_b_max_inds]
                results_min_b[num]      = [y_b_mins]    
                results_min_inds_b[num] = [y_b_min_inds]    

            else:

                results_max_b[num].append(y_b_maxs)
                results_max_inds_b[num].append(y_b_max_inds)
                results_min_b[num].append(y_b_mins)
                results_min_inds_b[num].append(y_b_min_inds)

    y_ini = y_b[-1, :]

print('')
print('Scan complete!', list(around(y_b[-1,:],3)))
print('')



# Plot
fig, ax = plot_bifdiagram(results_min_f, results_max_f, 
                          results_min_b, results_max_b, par_set)

if par_max < par_min:
    
    direct = '_back.png'
    
else:
    
    direct = '_forw.png'

ax.set_xlabel('h_ex, h_in=' + str(h_in_0) + ', tau_in=' + str(pars[1]), fontsize=12)

ax.vlines(-2.39, -2.8, 1.92, 'gray', linestyles='dashed', linewidth=0.8)
ax.vlines(-1.85, -2.8, 1.92, 'gray', linestyles='dashed', linewidth=0.8)

if pars[1] == 1:
    
    title_chars = 'Figs/N=1/Fig_2Ab_Bifs_SNIC' + '_h_ex.png'
    
elif pars[1] == 2:

    title_chars = 'Figs/N=1/Fig_2Aa_Bifs_Homoclinic' + '_h_ex.png'

# fig.savefig(title_chars, dpi=300, format='png', bbox_inches='tight')

title_chars












# Set Initial conditions:
y_ini = y_last


# Time array
time_stop = 70
sr        = 1000
time      = linspace(start=0, stop=time_stop, num=time_stop*sr)


# Driving
driving = linspace(0, 1, time.size)

driving_strength = 0.5

y = odeint(func=single_oscillator_plus_driving, y0=y_ini, t=time, 
              args=(h_ex_0, h_in_0, pars, sr, time_stop, driving, driving_strength), hmax=0.1)

print('End of run:', y.shape)
print('')



time_begin, time_end = 0, time_stop

fig, ax = plot_series(time, y, time_begin, time_end, sr)

if pars[1] == 1:
    
    title_chars = 'Figs/N=1/Onset_SNIC_h_ex.png'
    
elif pars[1] == 2:

    title_chars = 'Figs/N=1/Onset_Homoclinic_h_ex.png'
  
# fig.savefig(title_chars, dpi=300, format='png', bbox_inches='tight')

print(title_chars)








from itertools import product

# IC Scan Parameters
resolution = 30

y0_0_min, y0_0_max = -1, 2
y1_0_min, y1_0_max = 3, -9

y0_0 = linspace(y0_0_min, y0_0_max, resolution)
y1_0 = linspace(y1_0_min, y1_0_max, resolution)

results = list()

for y_ini in product(y0_0, y1_0):

# Simulation
    y = odeint(func=single_oscillator, y0=y_ini, t=time, 
             args=(h_ex_0, h_in_0, pars), 
             hmax=0.1)
    
    results.append((sum(y[:, 0] - y_last[0])/sr, sum(y[:, 1] - y_last[1])/sr))

results_y0_matrix = asarray(results)[:, 0].reshape(resolution, resolution)
results_y1_matrix = asarray(results)[:, 1].reshape(resolution, resolution)

print('Complete')
print('')

fig, ax = subplots(figsize=(5, 2))

ax.hist(results_y0_matrix.ravel(), bins=20, color='b');





fig, ax = subplots(figsize=(4, 3))

vmin, vmax = 0, 50

im1 = ax.imshow(results_y0_matrix.T, cmap='Reds', vmin=vmin, vmax=vmax)

ax.set_xlabel('$Ex(t=0)$', fontsize=12)
ax.set_ylabel('$In(t=0)$', fontsize=12)
ax.set_xticks(linspace(0, resolution, 3))
ax.set_xticklabels(linspace(y0_0_min, y0_0_max, 3))
ax.set_yticks(linspace(0, resolution, 3))
ax.set_yticklabels(linspace(y1_0_min, y1_0_max, 3))

fig.colorbar(im1, ax=ax, shrink=0.5, ticks=linspace(vmin, vmax, 3));

if pars[1] == 1:
    
    title_chars = 'Figs/N=1/Fig_2Bb_Basin_SNIC.png'
    
elif pars[1] == 2:

    title_chars = 'Figs/N=1/Fig_2Ba_Basin_Homoclinic.png'
  
# fig.savefig(title_chars, dpi=300, format='png', bbox_inches='tight')

print(title_chars)








# Initial conditions y_last

time_stop_pert = 200
sr             = 1000
time           = linspace(start=0, stop=time_stop_pert, num=time_stop_pert*sr)

resolution = 20

pulse_width_min, pulse_width_max = 1, 20
pulse_ampli_min, pulse_ampli_max = 5, 0.0001

pulse_width = linspace(pulse_width_min, pulse_width_max, resolution)
pulse_ampli = linspace(pulse_ampli_min, pulse_ampli_max, resolution)

pulse_period = 100

results_pert = list()

for pulse in product(pulse_width, pulse_ampli):

    h_ex_p = h_ex_0 + pulse[1]*ss.rect(mod(time, pulse_period)-pulse_period/2+pulse[0]/2, pulse[0])

    y = odeint(func=single_oscillator_pert, y0=y_last, t=time, args=(h_ex_p, h_in_0, pars, sr, time_stop_pert),
              hmax=0.1)

    results_pert.append((sum(y[time_stop_pert*sr//2:, 0] - y_ini[0])/sr, 
                         sum(y[time_stop_pert*sr//2:, 1] - y_ini[1])/sr
                     ))

results_pert_y0_matrix = asarray(results_pert)[:, 0].reshape(resolution, resolution)
results_pert_y1_matrix = asarray(results_pert)[:, 1].reshape(resolution, resolution)

print('COMPLETE')
print(' ')

fig, ax = subplots(figsize=(5, 2))

ax.hist(results_pert_y0_matrix.ravel(), bins=20, color='b');



vmin, vmax = -440, -340

fig, ax = subplots(figsize=(4, 3))

im1 = ax.imshow(results_pert_y0_matrix.T, cmap='Reds', vmin=vmin, vmax=vmax)

ax.set_xlabel('Pulse Width', fontsize=12)
ax.set_ylabel('Pulse Amplitude', fontsize=12)
ax.set_xticks(linspace(0, resolution, 3))
ax.set_xticklabels(linspace(pulse_width_min, pulse_width_max, 3))
ax.set_yticks(linspace(0, resolution, 3))
ax.set_yticklabels(around(linspace(pulse_ampli_min, pulse_ampli_max, 3), 2))

fig.colorbar(im1, ax=ax, shrink=0.8);

if pars[1] == 1:
    
    title_chars = 'Figs/N=1/Fig_2Cb_PulsePert_SNIC.png'
    
elif pars[1] == 2:

    title_chars = 'Figs/N=1/Fig_2Ca_PulsePert_Homoclinic.png'

# fig.savefig(title_chars, dpi=300, format='png', bbox_inches='tight')

title_chars








h_ex_set = [-2.45, -2.55, -2.65]

y_in_sets = list()

for h_ex in h_ex_set:

    y = odeint(func=single_oscillator, y0=y_last, t=time, 
              args=(h_ex, h_in_0, pars), 
              hmax=0.1)
    
    y_in_sets.append(y[-1, :])

y_in_sets


# Bifurcation parameter set
steps = 50

freq_min, freq_max = 1.5, 3

freq_set = linspace(freq_min, freq_max, steps)

# Time array
time_stop_freq = 100
sr             = 1000
time           = linspace(start=0, stop=time_stop_freq, num=time_stop_freq*sr)

rows = time.size

pulse_wid = 0.2
pulse_amp = 1.5

results = list()

for step, h_ex in enumerate(h_ex_set):
    
    results_min_f      = dict()
    results_min_inds_f = dict()
    results_max_f      = dict()
    results_max_inds_f = dict()
    
    # Simulation "forward"
    for freq in freq_set:
        
        pulse = pulse_amp*ss.rect(mod(time, 1/freq)-(1/freq)/2-pulse_wid/2, pulse_wid)

        h_ex_p = h_ex + pulse

        y_pert = odeint(func=single_oscillator_pert, y0=y_in_sets[step], t=time, 
                        args=(h_ex_p, h_in_0, pars, sr, time_stop_freq), 
                        hmax=0.1)

        for num, series in enumerate(y_pert[rows//2:,:-1:2].T):
                    
            if var(series) < 0.0001:
        
                if num not in results_min_f:
                    
                    results_min_f[num]      = [series[-1]]
                    results_min_inds_f[num] = [0]    
                   
                else:
                    results_min_f[num].append(series[-1])
                    results_min_inds_f[num].append(0)    
    
                if num not in results_max_f:
                    
                    results_max_f[num]      = [series[-1]]
                    results_max_inds_f[num] = [0]    
                   
                else:
                    results_max_f[num].append(series[-1])
                    results_max_inds_f[num].append(0)    
    
            else:
                
                y_f_max_inds = find_peaks(series, distance=100)
                y_f_maxs     = series[y_f_max_inds[0]]
    
                y_f_min_inds = find_peaks(-series, distance=100)
                y_f_mins     = series[y_f_min_inds[0]]
    
                if num not in results_min_f:
    
                    results_min_f[num]      = [y_f_mins]
                    results_min_inds_f[num] = [y_f_min_inds]
                    
                    results_max_f[num]      = [y_f_maxs]
                    results_max_inds_f[num] = [y_f_max_inds]
    
                else:
    
                    results_min_f[num].append(y_f_mins)
                    results_min_inds_f[num].append(y_f_min_inds)
                    
                    results_max_f[num].append(y_f_maxs)
                    results_max_inds_f[num].append(y_f_max_inds)

        # if par != par_set[-1]:
        #     y_in = y_pert[-1, :]

    results.append((results_min_f, results_max_f))

print('')
print('Scan complete!')
print('')



# Plot
fig, ax = plot_bifdiagram_freq(results, freq_set)

for condition in arange(len(h_ex_set)):

    ax[condition].set_ylabel('h_ex= ' + str(h_ex_set[condition]), fontsize=11)
    ax[condition].hlines(y_in_sets[condition], 1.5, 3.02, 
                         'r', linestyle='dashed', linewidth=0.5)
    
ax[-1].set_xlabel('Frequency (Hz)', fontsize=12);


if pars[1] == 1:
    
    title_chars = 'Figs/N=1/Fig_2Db_FreqPert_SNIC.png'
    
elif pars[1] == 2:

    title_chars = 'Figs/N=1/Fig_2Da_FreqPert_Homoclinic.png'

# fig.savefig(title_chars, dpi=300, format='png', bbox_inches='tight')

title_chars








freq_single = 0.8

h_ex_pick = 0

h_ex = h_ex_set[h_ex_pick]

# Time array
time_stop_freq = 100
sr             = 1000
time           = linspace(start=0, stop=time_stop_freq, num=time_stop_freq*sr)

rows = time.size

pulse_wid = 0.5
pulse_amp = 2

results = list()

# for step, h_ex in enumerate(h_ex_set):
    
    # results_min_f      = dict()
    # results_min_inds_f = dict()
    # results_max_f      = dict()
    # results_max_inds_f = dict()
    
    # Simulation "forward"
    # for freq in freq_set:
        
pulse = pulse_amp*ss.rect(mod(time, 1/freq_single)-(1/freq_single)/2-pulse_wid/2, pulse_wid)

h_ex_p = h_ex + pulse

y_pert = odeint(func=single_oscillator_pert, y0=y_in_sets[h_ex_pick], t=time, 
                        args=(h_ex_p, h_in_0, pars, sr, time_stop_freq), 
                        hmax=0.1)


fig, ax = subplots(figsize=(5, 2))

ax.plot(y_pert[:, 0], 'b');

if pars[1] == 1:
    
    title_chars = 'Figs/N=1/Fig_2Eb_FreqPert_Series_SNIC.png'
    
elif pars[1] == 2:

    title_chars = 'Figs/N=1/Fig_2Ea_FreqPert_Series_Homoclinic.png'

# fig.savefig(title_chars, dpi=300, format='png', bbox_inches='tight')

title_chars




