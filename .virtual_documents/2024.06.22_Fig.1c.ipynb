





from pandas import read_csv, DataFrame

import scipy.signal as signal

from matplotlib.pyplot import subplots, xticks, yticks, axis, figure

from numpy import arange, gradient, linspace, mod, tanh, var, asarray, around
from numpy import loadtxt, asarray, linspace, flip, arange, zeros, angle, unwrap, exp
from numpy import flip, zeros, ones, sqrt, where, max, min, angle, unwrap
from numpy import fill_diagonal, repeat, hstack, ndarray, corrcoef, exp






def filter_eeg(data, filter_settings, sr):

    import scipy.signal as signal
    from numpy import zeros

    rows  = data.shape[0]
    chans = data.shape[1] 

    sos = signal.butter(filter_settings[0], (filter_settings[1], filter_settings[2]), btype='bandpass', fs=sr, output='sos')

    data_filtered = zeros((rows, chans))

    for index, column in enumerate(data.transpose()): 
        forward = signal.sosfilt(sos, column)
        backwards = signal.sosfilt(sos, forward[-1::-1])
        data_filtered[:, index] = backwards[-1::-1]
        
    return data_filtered



def plot_series(time, data, time_stop, sr):

    name_vars = ('Ex', 'In')
    
    no_vars = len(name_vars)
    
    N = data.shape[1]//no_vars

    if N == 1:
    
        fig, ax = subplots(ncols=len(name_vars), figsize=(10, 6))
        
        for ind in arange(no_vars):
            
            ax[ind].plot(time, y[:, ind], linewidth=2, c='b')
            ax[ind].set_xticks(linspace(0, time_stop, 5));
            ax[ind].set_xticklabels([]);
            ax[ind].set_xlabel('Time', fontsize=14);
            ax[ind].set_ylabel(name_vars[ind], fontsize=14)
            y_min, y_max = ax[ind].get_ylim()
            ax[ind].set_yticks(linspace(y_min, y_max, 3));
            ax[ind].set_yticklabels(around(linspace(y_min, y_max, 3),1), fontsize=14);
    
    else:
        
        y_max1 = max(data[:,::2])
        y_min1 = min(data[:,::2])

        y_max1_ax = y_max1 + 0.1*(y_max1-y_min1)
        y_min1_ax = y_min1 - 0.1*(y_max1-y_min1)

        y_max2 = max(data[:,1::2])
        y_min2 = min(data[:,1::2])

        y_max2_ax = y_max2 + 0.1*(y_max2-y_min2)
        y_min2_ax = y_min2 - 0.1*(y_max2-y_min2)
    
        
        fig, ax = subplots(ncols=no_vars, nrows=N, figsize=(10, 6))
        
        for osc in arange(N):
            for ind in arange(no_vars):
                
                if ind == 0:
                    ax[osc, ind].plot(time, data[:, 2*osc+ind], linewidth=2, c='b')
                    ax[osc, ind].set_xticklabels([]);
                    ax[osc, ind].set_ylim(y_min1_ax, y_max1_ax)   
                    ax[osc, ind].set_yticks(linspace(y_min1_ax, y_max1_ax, 3));
                    ax[osc, ind].set_yticklabels(around(linspace(y_min1_ax, y_max1_ax, 3),1), fontsize=14);
    
                elif ind == 1:
                    ax[osc, ind].plot(time, data[:, 2*osc+ind], linewidth=2, c='r')
                    ax[osc, ind].set_xticklabels([]);
                    ax[osc, ind].set_ylim(y_min2_ax, y_max2_ax)
                    ax[osc, ind].set_yticks(linspace(y_min2_ax, y_max2_ax, 3));
                    ax[osc, ind].set_yticklabels(around(linspace(y_min2_ax, y_max2_ax, 3),1), fontsize=14);
                    
                if osc == N-1:
                    
                    ax[N-1, ind].set_xlabel('Time', fontsize=14);
                    ax[N-1, ind].set_xticks(linspace(0, time_stop, 5));
                    ax[N-1, ind].set_xticklabels(around(linspace(0, time_stop/sr, 5), 2));
    
                label_text = name_vars[ind] + str(osc+1)
    
                ax[osc, ind].set_ylabel(label_text, fontsize=14)
                      
    fig.tight_layout()
    
    return fig, ax
    


def phase_lock(data, sr):
    
    # sos = butter(order, (params[0],params[1]), btype='bandpass', fs=sr, output='sos')

    rows     = data.shape[0]
    channels = data.shape[1]
    
    time_end = int(rows / sr)
    time     = linspace(0, time_end, rows)

    signal_phases = zeros((len(time), channels))

    for index, column in enumerate(data.transpose()):
    
        instantaneous_phase = angle(signal.hilbert(column))
        inst_phase_unwrap   = unwrap(instantaneous_phase)
        signal_phases[:, index] = inst_phase_unwrap
    
    phase_lock_mat = zeros((channels, channels))

    for index1, column in enumerate(signal_phases.transpose()):
        for index2 in arange(index1+1, channels):
              
            phase_diff = column - signal_phases[:, index2]
            phase_lock_mat[index1, index2] = abs(sum(exp(-1j*phase_diff)))/phase_diff.size

    return phase_lock_mat






# Read data from csv
patient = 'HS_2018wuzhisen' # This patient has hippocampal sclerosis and mTLE seizures

path = '/Users/geroldbaier/Library/CloudStorage/Dropbox/EEG/EEG_Data/' + patient + '/Series/Seizure_Onset_B_slow.csv'
df = read_csv(path, sep=' ', header=None)

data_np = df.to_numpy()

data = data_np[:, :]

sr = 1000

all_labels_list = []

label_path = '/Users/geroldbaier/Library/CloudStorage/Dropbox/EEG/EEG_Data/' + patient + '/Series/All_onsets_labels_B.txt'

with open(label_path, 'r') as file:
    
    for line in file:

        label = line[:-1]
        all_labels_list.append(label)

rows, chans = data.shape

chan_select = 8

if chan_select >= len(all_labels_list):

    print('not enough EEG time series')

else:
    
    chan_names = all_labels_list[:chan_select]

patient, rows, chans, chan_names


sr = 1000

sample_start = 0  
sample_end   = sample_start + rows

order, low, high = 5, 1, 12

filter_settings = [order, low, high]

data_filtered = filter_eeg(data, filter_settings, sr)

data_filtered.shape






elec = 'B'

data_elec = data_filtered

segment = 0

onset_time = 97.5

seconds_pre, seconds_ict = 60, 12

start = int(onset_time*sr) - seconds_pre*sr
stop  = int(onset_time*sr) + seconds_ict*sr

rows_select = rows // 2

data_select = data_filtered[:rows_select, :chan_select]

phase_lock_mat = phase_lock(data_select, sr)

phase_lock_mat_full = phase_lock_mat + phase_lock_mat.T


offset = 500

vmin, vmax = -100, 100

###################################################

fig = figure(constrained_layout=True, figsize=(8,2))

gs  = fig.add_gridspec(1, 4)

ax1 = fig.add_subplot(gs[:3])

ax1.plot(data_elec[start:stop, :chan_select] + offset*arange(chan_select-1,-1,-1), 
        linewidth=1, color='b');

ax1.set_yticks(offset*arange(chan_select))
ax1.set_yticklabels(flip(arange(chan_select)))
ax1.margins(x=0)
ax1.set_xticks((0, seconds_pre*sr, (seconds_pre + seconds_ict)*sr-1))
labl = (-seconds_pre, 0, seconds_ict)
ax1.set_xticklabels(labl, fontsize=12)
ax1.set_yticks(offset*arange(len(chan_names)));
ax1.set_yticklabels(flip(chan_names));
ax1.vlines(onset_time*sr-start, -200, 2300, color="k", 
          linestyles='dashed', linewidth=1);
ax1.set_xlabel('Time (seconds)', fontsize=12);

ax2 = fig.add_subplot(gs[3])

im = ax2.imshow(phase_lock_mat_full, cmap='bwr', vmax=1);

fig.colorbar(im, ax=ax2, ticks=(0, 0.5, 1), shrink = 0.8);


title_chars = 'Figs/Fig_1/Fig_1C.png'

# fig.savefig(title_chars, dpi=300, format='png', bbox_inches='tight')
title_chars







