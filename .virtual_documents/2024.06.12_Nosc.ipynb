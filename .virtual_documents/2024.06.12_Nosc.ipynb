





from pandas import read_csv, DataFrame

import scipy.signal as signal

from scipy.integrate import odeint

import json

from matplotlib.pyplot import subplots, xticks, yticks, axis, figure

from numpy import arange, gradient, linspace, mod, tanh, var, asarray, around
from numpy import loadtxt, asarray, linspace, flip, arange, zeros, angle, unwrap, exp
from numpy import flip, zeros, ones, sqrt, where, max, min, angle, unwrap
from numpy import fill_diagonal, repeat, hstack, ndarray, corrcoef, exp

from numpy.random import default_rng

import sk_dsp_comm.sigsys as ss

from itertools import product






def filter_eeg(data, filter_settings, sr):

    import scipy.signal as signal
    from numpy import zeros

    rows  = data.shape[0]
    chans = data.shape[1] 

    sos = signal.butter(filter_settings[0], (filter_settings[1], filter_settings[2]), btype='bandpass', fs=sr, output='sos')

    data_filtered = zeros((rows, chans))

    for index, column in enumerate(data.transpose()): 
        forward = signal.sosfilt(sos, column)
        backwards = signal.sosfilt(sos, forward[-1::-1])
        data_filtered[:, index] = backwards[-1::-1]
        
    return data_filtered



def sigmoid(u):
    return tanh(u)

def N_oscillators(y, t, N, h_ex_rand, h_in_rand, coupling_matrix, pars, flag):

    # Parameters
    tau_ex, tau_in, c1, c2, c3, c4 = pars

    if  N == 1:

        h_ex = h_ex1_0

        dydt = (
                (h_ex_rand[osc] - y[0] + c1*sigmoid(y[0]) - c2*sigmoid(y[1]))*tau_ex,
                (h_in_rand[osc] - y[1] + c3*sigmoid(y[0]) - c4*sigmoid(y[1]))*tau_in
        )
        
    else:
        # Separate Variables
        y_ex = y[:-1:2]
        y_in = y[1::2]

        dy_ex, dy_in = zeros(N), zeros(N)
        dydt = zeros(2*N)

        for osc in arange(N):
            
            coup = sum(coupling_matrix[:, osc] * y_ex)
            
            if flag[osc] == 0:    # Onset
                
                # h_ex = h_ex_rand[osc]

                dy_ex[osc] = (h_ex_rand[osc] - y_ex[osc] + c1*sigmoid(y_ex[osc]) - c2*sigmoid(y_in[osc]) + coup)*tau_ex 
                dy_in[osc] = (h_in_rand[osc] - y_in[osc] + c3*sigmoid(y_ex[osc]) - c4*sigmoid(y_in[osc])       )*tau_in

            if flag[osc] == 1:    # Propagation
            
                h_ex = h_ex_rand[osc]     - 0.10

                dy_ex[osc] = (h_ex           - y_ex[osc] + c1*sigmoid(y_ex[osc]) - c2*sigmoid(y_in[osc]) + coup)*tau_ex 
                dy_in[osc] = (h_in_rand[osc] - y_in[osc] + c3*sigmoid(y_ex[osc]) - c4*sigmoid(y_in[osc])        )*tau_in

            if flag[osc] == 2:    # Passive tissue
            
                h_ex = h_ex_rand[osc]     - 0.20

                dy_ex[osc] = (h_ex           - y_ex[osc] + c1*sigmoid(y_ex[osc]) - c2*sigmoid(y_in[osc]) + coup)*tau_ex 
                dy_in[osc] = (h_in_rand[osc] - y_in[osc] + c3*sigmoid(y_ex[osc]) - c4*sigmoid(y_in[osc])        )*tau_in
                
    # Combine Variables

        dydt[:-1:2] = dy_ex
        dydt[1: :2] = dy_in


    return dydt


def N_oscillators_plus_driving(y, t, N, h_ex_rand, h_in_rand, coupling_matrix, pars, sr, time_stop, driving, driving_strength):

    tau_ex, tau_in, c1, c2, c3, c4 = pars
    
    t_index = int(t*sr)
    
    if t_index >= time_stop*sr:

        dydt = zeros(2*N)
        
        return dydt

    if  N == 1:

        h_ex_rand_driven = h_ex_rand + driving_strength*driving[noise_index]

        dydt = (
            (h_ex_rand_driven - y[0] + c1*sigmoid(y[0]) - c2*sigmoid(y[1]) + random_strength*random_data[noise_index])*tau_ex,
            (h_in             - y[1] + c3*sigmoid(y[0]) - c4*sigmoid(y[0])                                                                 )*tau_in,
       )
        
    else:

        coup_matrix_scaled = coupling_matrix / (N-1)
        
        # Separate Variables
        y_ex = y[:-1:2]
        y_in = y[1::2]

        dy_ex, dy_in = zeros(N), zeros(N)
        dydt = zeros(2*N)

        for osc in arange(N):
            
            coup = sum(coup_matrix_scaled[:, osc] * y_ex)

            h_ex_rand_driven = h_ex_rand[osc] + driving_strength*driving[t_index]
                
            dy_ex[osc] = (h_ex_rand_driven - y_ex[osc] + c1*sigmoid(y_ex[osc]) - c2*sigmoid(y_in[osc]) + coup)*tau_ex 
            dy_in[osc] = (h_in_rand[osc]   - y_in[osc] + c3*sigmoid(y_ex[osc]) - c4*sigmoid(y_in[osc])        )*tau_in

        dydt[:-1:2] = dy_ex
        dydt[1: :2] = dy_in

    return dydt




def plot_series(time, data, time_stop, sr):

    name_vars = ('Ex', 'In')
    
    no_vars = len(name_vars)
    
    N = data.shape[1]//no_vars

    if N == 1:
    
        fig, ax = subplots(ncols=len(name_vars), figsize=(10, 6))
        
        for ind in arange(no_vars):
            
            ax[ind].plot(time, y[:, ind], linewidth=2, c='b')
            ax[ind].set_xticks(linspace(0, time_stop, 5));
            ax[ind].set_xticklabels([]);
            ax[ind].set_xlabel('Time', fontsize=14);
            ax[ind].set_ylabel(name_vars[ind], fontsize=14)
            y_min, y_max = ax[ind].get_ylim()
            ax[ind].set_yticks(linspace(y_min, y_max, 3));
            ax[ind].set_yticklabels(around(linspace(y_min, y_max, 3),1), fontsize=14);
    
    else:
        
        y_max1 = max(data[:,::2])
        y_min1 = min(data[:,::2])

        y_max1_ax = y_max1 + 0.1*(y_max1-y_min1)
        y_min1_ax = y_min1 - 0.1*(y_max1-y_min1)

        y_max2 = max(data[:,1::2])
        y_min2 = min(data[:,1::2])

        y_max2_ax = y_max2 + 0.1*(y_max2-y_min2)
        y_min2_ax = y_min2 - 0.1*(y_max2-y_min2)
    
        
        fig, ax = subplots(ncols=no_vars, nrows=N, figsize=(10, 6))
        
        for osc in arange(N):
            for ind in arange(no_vars):
                
                if ind == 0:
                    ax[osc, ind].plot(time, data[:, 2*osc+ind], linewidth=2, c='b')
                    ax[osc, ind].set_xticklabels([]);
                    ax[osc, ind].set_ylim(y_min1_ax, y_max1_ax)   
                    ax[osc, ind].set_yticks(linspace(y_min1_ax, y_max1_ax, 3));
                    ax[osc, ind].set_yticklabels(around(linspace(y_min1_ax, y_max1_ax, 3),1), fontsize=14);
    
                elif ind == 1:
                    ax[osc, ind].plot(time, data[:, 2*osc+ind], linewidth=2, c='r')
                    ax[osc, ind].set_xticklabels([]);
                    ax[osc, ind].set_ylim(y_min2_ax, y_max2_ax)
                    ax[osc, ind].set_yticks(linspace(y_min2_ax, y_max2_ax, 3));
                    ax[osc, ind].set_yticklabels(around(linspace(y_min2_ax, y_max2_ax, 3),1), fontsize=14);
                    
                if osc == N-1:
                    
                    ax[N-1, ind].set_xlabel('Time', fontsize=14);
                    ax[N-1, ind].set_xticks(linspace(0, time_stop, 5));
                    ax[N-1, ind].set_xticklabels(around(linspace(0, time_stop/sr, 5), 2));
    
                label_text = name_vars[ind] + str(osc+1)
    
                ax[osc, ind].set_ylabel(label_text, fontsize=14)
                      
    fig.tight_layout()
    
    return fig, ax
    


def phase_lock(data, sr):
    
    # sos = butter(order, (params[0],params[1]), btype='bandpass', fs=sr, output='sos')

    rows     = data.shape[0]
    channels = data.shape[1]
    
    time_end = int(rows / sr)
    time     = linspace(0, time_end, rows)

    signal_phases = zeros((len(time), channels))

    for index, column in enumerate(data.transpose()):
    
        instantaneous_phase = angle(signal.hilbert(column))
        inst_phase_unwrap   = unwrap(instantaneous_phase)
        signal_phases[:, index] = inst_phase_unwrap
    
    phase_lock_mat = zeros((channels, channels))

    for index1, column in enumerate(signal_phases.transpose()):
        for index2 in arange(index1+1, channels):
              
            phase_diff = column - signal_phases[:, index2]
            phase_lock_mat[index1, index2] = abs(sum(exp(-1j*phase_diff)))/phase_diff.size

    return phase_lock_mat



def N_osc_pert(y, t, N, coupling_matrix, flag, pert_osc,
               sr, time_steps, h_ex_0, h_ex_p):

    # Parameters
    h_in                       = -3.7
    tau_ex, tau_in             = 1, 1
    c1_ex, c2_ex, c3_in, c4_in = 4, 4, 6, 0.1

    h_ex_index = int(t*sr)
    
    if h_ex_index >= time_steps:

        dydt = zeros(2*N)
        
        return dydt
    
    if  N == 1:

        dydt = (
                (h_ex_p[h_ex_index] - y[0] + c1_ex*sigmoid(y[0]) - c2_ex*sigmoid(y[1]))*tau_ex,
                (h_in               - y[1] + c3_in*sigmoid(y[0]) - c4_in*sigmoid(y[1]))*tau_in
        )

    else:
        # Separate Variables
        y_ex = y[:-1:2]
        y_in = y[1::2]

        dy_ex, dy_in = zeros(N), zeros(N)
        dydt = zeros(2*N)

        for osc in arange(N):
            
            coup = sum(coupling_matrix[:, osc] * y_ex)

# Onset Oscillator
            if flag[osc] == 0:    
                
                h_ex    = h_ex_0
                
                if osc == pert_osc:

                    dy_ex[osc] = (h_ex_p[h_ex_index] - y_ex[osc] + c1_ex*sigmoid(y_ex[osc]) - c2_ex*sigmoid(y_in[osc]) + coup)*tau_ex 

                else:
                    
                    dy_ex[osc] = (h_ex - y_ex[osc] + c1_ex*sigmoid(y_ex[osc]) - c2_ex*sigmoid(y_in[osc]) + coup)*tau_ex 

                dy_in[osc] = (h_in     - y_in[osc] + c3_in*sigmoid(y_ex[osc]) - c4_in*sigmoid(y_in[osc])       )*tau_in


# Primary Propagation Oscillator
            elif flag[osc] == 1:    
                
                h_ex    = h_ex_0 - 0.15
            
                if osc == pert_osc:

                    dy_ex[osc] = (h_ex_p[h_ex_index] - y_ex[osc] + c1_ex*sigmoid(y_ex[osc]) - c2_ex*sigmoid(y_in[osc]) + coup)*tau_ex 

                else:

                    dy_ex[osc] = (h_ex - y_ex[osc] + c1_ex*sigmoid(y_ex[osc]) - c2_ex*sigmoid(y_in[osc]) + coup)*tau_ex 
                    
                dy_in[osc] = (h_in     - y_in[osc] + c3_in*sigmoid(y_ex[osc]) - c4_in*sigmoid(y_in[osc])       )*tau_in


# Secondary Propagation Oscillator
            elif flag[osc] == 2:    
                
                h_ex    = h_ex_0 - 0.3                

                if osc == pert_osc:

                    dy_ex[osc] = (h_ex_p[h_ex_index] - y_ex[osc] + c1_ex*sigmoid(y_ex[osc]) - c2_ex*sigmoid(y_in[osc]) + coup)*tau_ex 

                else:

                    dy_ex[osc] = (h_ex - y_ex[osc] + c1_ex*sigmoid(y_ex[osc]) - c2_ex*sigmoid(y_in[osc]) + coup)*tau_ex 
                    
                dy_in[osc] = (h_in     - y_in[osc] + c3_in*sigmoid(y_ex[osc]) - c4_in*sigmoid(y_in[osc])       )*tau_in

    # Combine Variables

        dydt[:-1:2] = dy_ex
        dydt[1: :2] = dy_in

    return dydt






# Read data from csv
patient = 'HS_2018wuzhisen' # This patient has hippocampal sclerosis and mTLE seizures

path = '/Users/geroldbaier/Library/CloudStorage/Dropbox/EEG/EEG_Data/' + patient + '/Series/Seizure_Onset_B_slow.csv'
df = read_csv(path, sep=' ', header=None)

data_np = df.to_numpy()

data = data_np[:, :]

sr = 1000

all_labels_list = []

label_path = '/Users/geroldbaier/Library/CloudStorage/Dropbox/EEG/EEG_Data/' + patient + '/Series/All_onsets_labels_B.txt'

with open(label_path, 'r') as file:
    
    for line in file:

        label = line[:-1]
        all_labels_list.append(label)

rows, chans = data.shape

chan_select = 5

if chan_select >= len(all_labels_list):

    print('not enough EEG time series')

else:
    
    chan_names = all_labels_list[:chan_select]

patient, rows, chans, chan_names


sr = 1000

sample_start = 0  
sample_end   = sample_start + rows

order, low, high = 5, 1, 12

filter_settings = [order, low, high]

data_filtered = filter_eeg(data, filter_settings, sr)

data_filtered.shape






minutes = 60

int(onset_time*sr) - minutes*sr

int(onset_time*sr), data_elec[start:stop, :chan_select].shape, stop





elec = 'B'

data_elec = data_filtered

segment = 0

onset_time = 97.5

seconds_pre, seconds_ict = 60, 12

start = int(onset_time*sr) - seconds_pre*sr
stop  = int(onset_time*sr) + seconds_ict*sr

offset = 500

vmin, vmax = -100, 100

###################################################
fig, ax = subplots(figsize=(6, 2))

ax.plot(data_elec[start:stop, :chan_select] + offset*arange(chan_select-1,-1,-1), 
        linewidth=1, color='b');

ax.set_yticks(offset*arange(chan_select))
ax.set_yticklabels(flip(arange(chan_select)))
ax.margins(x=0)
# ax.set_xticks(linspace(0, stop-start-1, 3))
ax.set_xticks((0, seconds_pre*sr, (seconds_pre + seconds_ict)*sr-1))
labl = (-seconds_pre, 0, seconds_ict)
ax.set_xticklabels(labl, fontsize=12)
# ax1.set_xlabel('Time (seconds)', fontsize=12)
ax.set_yticks(offset*arange(len(chan_names)));
ax.set_yticklabels(flip(chan_names));
ax.vlines(onset_time*sr-start, -200, 2300, color="k", 
          linestyles='dashed', linewidth=1);
ax.set_xlabel('Time (seconds)', fontsize=12);

title_chars = 'Figs/Fig_1/Fig_1C.png'

fig.savefig(title_chars, dpi=300, format='png', bbox_inches='tight')
title_chars








rows_select = rows // 2

data_select = data_filtered[:rows_select, :chan_select]

data_corr = corrcoef(data_select, rowvar=False)

fill_diagonal(data_corr, 0)

data_corr_abs = abs(data_corr)


fig = figure(constrained_layout=True, figsize=(8,2))

gs  = fig.add_gridspec(1, 4)

ax1 = fig.add_subplot(gs[:3])

offset  = 10

dataset = data_select
means   = data_select.mean(axis=0)
devs    = data_select.std(axis=0)

ax1.plot((dataset - means)/devs + offset*arange(chan_select-1,-1,-1), linewidth=1, color='b');
ax1.plot(zeros((rows_select, chan_select)) + offset*arange(chan_select-1,-1,-1),'--',color='gray');
ax1.set(ylabel='Voltage')


ax2 = fig.add_subplot(gs[3])
im = ax2.imshow(data_corr_abs, cmap='bwr', vmax=1);
fig.colorbar(im, ax=ax2, ticks=(0, 0.5, 1), shrink = 0.8);

time_long = 20

ax1.set_xticks(linspace(0, rows_select-1, 5))
labl = linspace(0, rows_select/sr, 5)
ax1.set_xticklabels(labl, fontsize=12)
ax1.set_xlabel('Time (seconds)', fontsize=12)

ax1.set_ylabel('Voltage', fontsize=12)
# ax1.axvline(x=rows//2, ymin=0.05, ymax=0.95, linewidth=2, color='k', linestyle='--')

title_chars = 'figs/homoclinic_EEG_corr_B14.16.17_corrs.png'
# fig.savefig(title_chars, format='png')
print(title_chars)






rows_select = rows // 2

data_select = data_filtered[:rows_select, :chan_select]

phase_lock_mat = phase_lock(data_select, sr)

phase_lock_mat_full = phase_lock_mat + phase_lock_mat.T

fig = figure(constrained_layout=True, figsize=(8,2))

gs  = fig.add_gridspec(1, 4)

ax1 = fig.add_subplot(gs[:3])

offset  = 10

dataset = data_select
means   = data_select.mean(axis=0)
devs    = data_select.std(axis=0)

ax1.plot((dataset - means)/devs + offset*arange(chan_select-1,-1,-1), linewidth=1, color='b');
ax1.plot(zeros((rows_select, chan_select)) + offset*arange(chan_select-1,-1,-1),'--',color='gray');
ax1.set(ylabel='Voltage')


ax2 = fig.add_subplot(gs[3])
im = ax2.imshow(phase_lock_mat_full, cmap='bwr', vmax=1);
fig.colorbar(im, ax=ax2, ticks=(0, 0.5, 1), shrink = 0.8);

time_long = 20

ax1.set_xticks(linspace(0, rows_select-1, 5))
labl = linspace(0, rows_select/sr, 5)
ax1.set_xticklabels(labl, fontsize=12)
ax1.set_xlabel('Time (seconds)', fontsize=12)

ax1.set_ylabel('Voltage', fontsize=12)
# ax1.axvline(x=rows//2, ymin=0.05, ymax=0.95, linewidth=2, color='k', linestyle='--')

title_chars = 'figs/homoclinic_EEG_corr_B_corrs.png'
# fig.savefig(title_chars, format='png')
print(title_chars)





# Number of oscillators > 2
N = chan_select

# Input parameters
h_ex_0    = -2.41
h_in_0    = -4.0

eps  = 0.00001

SEED = 123

rng = default_rng(SEED)

h_ex_rand = h_ex_0 + eps*rng.normal(0,1,size=N)
h_in_rand = h_in_0 + eps*rng.normal(0,1,size=N)

# Homoclinic / SNIC parameters
pars = (1, 2, 4, 4, 10, 0) # HC t_in = 2; SNIC t_in = 1


# Onset flag
flag     = zeros(N)
flag[1]  = 1
flag[2:] = 2

flag = [int(item) for item in flag]

print(flag)

if len(flag) != N:
    
    print('Warning: Number of items in Onset Flag not equal to N')

if N == 1:
    
    # Coupling matrix
    coupling_strength = 0
    coupling_matrix = 0

    # Initial conditions
    y_ini = rng.uniform(size=2*N)
    # y_ini = y[-1, :]


else:

    coupling_strength = 0.0

# Pick Coupling Matrix:
    
    ## Correlation Matrix
    # coupling_matrix = coupling_strength * data_corr_abs

    ## Phase Locking Matrix
    coupling_matrix = coupling_strength * phase_lock_mat_full
    
    # Initial conditions
    # y_ini = rng.uniform(size=2*N)*10

IC_state = 'SY'


if IC_state == 'SY':

    SEED_2 = 111

    rng = default_rng(SEED_2)
    
    y_ini = rng.uniform(size=2*N)*10

else:
    
    y_ini = y[-1, :]

y_ini[:2] = [ 1.332, -1.738]
    
# Stop time and time array
time_stop = 50
sr        = 1000
time      = linspace(start=0, stop=time_stop, num=time_stop*sr)

# Simulation
y = odeint(func=N_oscillators, y0=y_ini, t=time, 
           args=(N, h_ex_rand, h_in_rand, coupling_matrix, pars, flag), hmax=0.1)

# Show final values of all variables
print('End of run:', list(around(y[-1,:], 2)))



# Plot
fig, ax = plot_series(time, y, time_stop, sr)

title_chars = 'Figures/Homoclinic_timeseries_coup_' + str(coupling_strength) + '.png'
# fig.savefig(title_chars, format='png')
print(title_chars)


# h_ex_0 = -2.4

# Simulation
y = odeint(func=N_oscillators, y0=y_ini, t=time, 
           args=(N, h_ex_rand, h_in_rand, coupling_matrix, pars, flag), hmax=0.1)

# Update
y_ini = y[-1,:]

# Show final values of all variables
print('End of run:', list(around(y[-1,:],3)))





# Number of oscillators
# N = 10

# Excitatory input parameter
# h_ex_0    = -.36
# h_in_0    = -3.7

# eps       = 0.07
# RANDOM_STATE = 1111
# seed(RANDOM_STATE)
# h_ex_rand = h_ex_0 + eps*normal(0,1,size=N)
# h_in_rand = h_in_0 + eps*normal(0,1,size=N)

# Replace with array: pars_superHopf, pars_subHopf, ...
# pars = (1, 1, 3.5, 2., 6, 0)
# pars = (1, 1, 3.6, 2, 10, 0.1)


if N == 1:
    
    coupling_strength_E, coupling_strength_I = 0, 0
    coupling_matrix_E,   coupling_matrix_I   = 0, 0

else:

    coupling_strength = 0.1

# Pick Coupling Matrix:
    
    ## Correlation Matrix
    # coupling_matrix = coupling_strength * data_corr_abs

    ## Phase Locking Matrix
    coupling_matrix = coupling_strength * phase_lock_mat_full
    
    # # Initial conditions
    # y_ini = rng.uniform(size=2*N)
    

# Pick Initial conditions:
# 'SY', 'T1', 'T2', 'OK'

IC_state = 'OK'

# seed(1112)

if IC_state   == 'SY':
    
    # y_ini = uniform(size=2*N)
    y_ini = rng.uniform(size=2*N)

else:
    
    y_ini = y[-1, :]


# Time array
time_stop = 600
sr        = 100
time      = linspace(start=0, stop=time_stop, num=time_stop*sr)

# random_mean = zeros(N)

# random_cov_matrix = zeros((N, N))

# fill_diagonal(random_cov_matrix, 1)

# SEED = 3

# rng = default_rng(SEED)

# random_data = rng.multivariate_normal(random_mean, random_cov_matrix, size=time.size)

# order, band_low, band_high = 5, 0.1, 10

# sos = butter(order, (band_low, band_high), btype='bandpass', fs=sr, output='sos')

# random_data_filtered = zeros((time.size, N))

# for index, column in enumerate(random_data.transpose()): 
#     forward = sosfilt(sos, column)
#     backwards = sosfilt(sos, forward[-1::-1])
#     random_data_filtered[:, index] = backwards[-1::-1]

# random_strength = 0.0


# Driving

driving = linspace(0, 1, time.size)

driving_strength = 1.0


# coupling_strength = 0.3

# coupling_matrix = coupling_strength * coupling_matrix_graded

# coup_I_values = (0, -.2)      

# y = zeros((time_stop*sr, N*2))


# y = odeint(func=N_oscillators, y0=y_ini, t=time, 
#            args=(N, h_ex1_0, coupling_matrix, flag), hmax=0.1)
# for index in (0, 1):
# coupling_matrix_I = coup_I_values[index] * coupling_matrix_I_graded


# Simulation
y = odeint(func=N_oscillators_plus_driving, y0=y_ini, t=time, 
          args=(N, h_ex_rand, h_in_rand, coupling_matrix, pars,
                sr, time_stop, driving, driving_strength), hmax=0.1)

# y_unfiltered = y[:,::2, :]

print('End of run:', y.shape)
print('')



start, stop = 0, y.shape[0]

offset = 5

vmin, vmax = -3, 3

###################################################
fig, ax = subplots(nrows=1, ncols=2, figsize=(8, 2))

ax[0].plot(y[start:stop, ::2] + offset*arange(N-1,-1,-1), 
        linewidth=1, color='b');
# ax[0, 1].plot(y_unfiltered[start:stop, :, 1] + offset*arange(N-1,-1,-1), 
#         linewidth=1, color='b');

ax[0].set_yticks(offset*arange(N))
ax[0].set_yticklabels(flip(arange(N)))
ax[0].margins(x=0)
ax[0].set_xticks(linspace(0, stop-start, 3))
labl = linspace(start/sr, stop/sr, 3)
ax[0].set_xticklabels(labl, fontsize=12)
# ax[0].set_title('Without Cross-Inhibition')
ax[0].set_xlabel('Time', fontsize=12)


ax[1].imshow(y[start:stop, ::2].T, aspect='auto', 
          cmap='bwr', vmin=vmin, vmax=vmax);
# ax[1, 1].imshow(y_unfiltered[start:stop, :, 1].T, aspect='auto', 
#           cmap='bwr', vmin=vmin, vmax=vmax);

ax[1].set_xticks(linspace(0, stop-start, 3))
labl = linspace(start/sr, stop/sr, 3)
ax[1].set_xticklabels(labl, fontsize=12)
ax[1].set_xlabel('Time', fontsize=12)
ax[1].set_yticks(arange(y.shape[1]//2));
ax[1].set_yticklabels(arange(y.shape[1]//2));

fig.tight_layout()












pert_osc = 0

# Stop time
time_stop_s   = 500
time_steps_s  = time_stop_s*sr
time_s        = linspace(start=0, stop=time_stop_s, num=time_steps_s)

resolution_freq, resolution_amp = 60, 1
# resolution_freq, resolution_amp = 5, 5

# pulse_period_min, pulse_period_max = 5, 30
freq_min, freq_max = 0.1, 1

pulse_amplit_min, pulse_amplit_max = 0.5, 2.2 #2

pulse_freqs  = linspace(freq_min, freq_max, resolution_freq)
# pulse_perios  = linspace(pulse_period_min, pulse_period_max, resolution_per)
pulse_amplis  = linspace(pulse_amplit_max, pulse_amplit_min, resolution_amp)

pulse_width   = 1

results_pert  = list()

results_max_f      = dict()
results_max_inds_f = dict()
results_min_f      = dict()
results_min_inds_f = dict()

for pulse in product(pulse_freqs, pulse_amplis):

        # pulse = pulse_amp*ss.rect(mod(time, 1/freq)-(1/freq)/2-pulse_wid/2, pulse_wid)

    pulse = pulse[1]*ss.rect(mod(time_s, 1/pulse[0])-(1/pulse[0])/2-pulse_width/2, pulse_width)
    

    if pert_osc == 0:

        h_ex_p = h_ex_0        + pulse

    elif pert_osc == 1:

        h_ex_p = h_ex_0 - 0.15 + pulse
        
    elif pert_osc == 2:
        
        h_ex_p = h_ex_0 - 0.30 + pulse

    y = odeint(func=N_osc_pert, y0=y_ini, t=time_s, args=(N, coupling_matrix, 
               flag, pert_osc, sr, time_steps_s, h_ex_0, h_ex_p), hmax=0.1)

    rows = y.shape[0]

    # Collect integrals of transients
    results  = list()

    for col in arange(N):
        
        y_ex_positive = sqrt((y[rows//2:, 2*col]-y_ini[2*col])**2)

        results.append(sum(y_ex_positive) / sr)

    results_pert.append(results)

    
    for num, series in enumerate(y[rows//2:,:-1:2].T):
    
        # Collect extrema and their indices
        y_f_max_inds = signal.find_peaks(series, distance=100)
        y_f_maxs     = series[y_f_max_inds[0]]
    
        y_f_min_inds = signal.find_peaks(-series, distance=100)
        y_f_mins     = series[y_f_min_inds[0]]
    
        if num not in results_max_f:
    
            results_max_f[num]      = [y_f_maxs]
            results_max_inds_f[num] = [y_f_max_inds]
            results_min_f[num]      = [y_f_mins]    
            results_min_inds_f[num] = [y_f_min_inds]    
    
        else:
    
            results_max_f[num].append(y_f_maxs)
            results_max_inds_f[num].append(y_f_max_inds)
            results_min_f[num].append(y_f_mins)
            results_min_inds_f[num].append(y_f_min_inds)
    


results_pert_matrix = asarray(results_pert).reshape(resolution_freq, resolution_amp, N)

results_pert_matrix.shape





no_ticklabels = 3

vmin, vmax = min(results_pert_matrix), max(results_pert_matrix)
vmin, vmax = 0, 1000

fig, ax = subplots(nrows=N, figsize=(8, 10))


if N == 1:
    
    im = ax.imshow(results_pert_matrix[:,:,0].T, cmap='bwr', vmin=vmin, vmax=vmax)

    fig.colorbar(im, ax=ax, shrink=0.6);

    label_chars = 'Onset Oscillator'

    ax.set_title(label_chars, fontsize=16)
    ax.set_ylabel('Pulse Amplitude', fontsize=16)
    ax.set_xticks(linspace(0, resolution_per-1, no_ticklabels))
    ax.set_xticklabels(around(linspace(pulse_period_min, pulse_period_max, no_ticklabels), 1))
    ax.set_yticks(linspace(0, resolution_amp-1, no_ticklabels))
    ax.set_yticklabels(around(linspace(pulse_amplit_min, pulse_amplit_max, no_ticklabels), 1))
    ax.set_xlabel('Pulse Width', fontsize=16)

else:

    for col in arange(N):
        
        im = ax[col].imshow(results_pert_matrix[:,:,col].T, cmap='bwr', vmin=vmin, vmax=vmax)

        fig.colorbar(im, ax=ax[col], shrink=0.6);

        # label_chars = 'Onset location

        if   col == 0:

            label_chars = 'Onset'

        elif col == 1:
            
            label_chars = 'Progagation'

        elif col == 2:
            
            label_chars = 'Other'
            

        ax[col].set_title(label_chars, fontsize=12)
        ax[col].set_ylabel('Amplitude', fontsize=12)
        ax[col].set_xticks(linspace(0, resolution_freq-1, no_ticklabels))
        ax[col].set_xticklabels(around(linspace(freq_min, freq_max, no_ticklabels), 1))
        ax[col].set_yticks(linspace(0, resolution_amp-1, no_ticklabels))
        ax[col].set_yticklabels(around(linspace(pulse_amplit_max, pulse_amplit_min, no_ticklabels), 1))

        if col == N-1:
            ax[col].set_xlabel('Pulse Frequency', fontsize=12)

fig.tight_layout()

# title_chars = 'Figures/Nosc_pulsepert_' + str(pert_osc) + '_scan.png'
# fig.savefig(title_chars, format='png', transparent=True, dpi=300)
# title_chars






if resolution_amp == 1:
    
    fig, ax = subplots(ncols=1, nrows=N, figsize=(8, 6))
    
    for osc in arange(N):
        
        # Forward
        for xe, ye in zip(pulse_freqs, results_max_f[osc]):
    
            if not isinstance(ye, ndarray):
                ax[osc].scatter(xe, ye, c='r', s=5)
            else:
                ax[osc].scatter([xe] * len(ye), ye, s=10, marker='o', facecolors='r')
    
        for xe, ye in zip(pulse_freqs, results_min_f[osc]):
    
            if not isinstance(ye, ndarray):
                ax[osc].scatter(xe, ye, c='b', s=5)
            else:
                ax[osc].scatter([xe] * len(ye), ye, s=10, marker='o', facecolors='b')

        # y_min, y_max = ax[osc].get_ylim()
        y_min, y_max = -5, 5
        ax[osc].set_ylim(y_min, y_max)

        ax[osc].set_yticks(linspace(y_min, y_max, 3));
        ax[osc].set_yticklabels(around(linspace(y_min, y_max, 3),1), fontsize=16);

        label_text = 'Osc ' + str(osc+1)
        ax[osc].set_ylabel(label_text, fontsize=14)

    ax[osc].set_xticks(linspace(pulse_freqs[0], pulse_freqs[-1], 6));
    ax[osc].set_xticklabels(around(linspace(pulse_freqs[0], pulse_freqs[-1], 6), 2), fontsize=16);
    ax[osc].set_xlabel('Frequency', fontsize=16)
    
    title_chars = 'Coupling Strength = ' + str(coupling_strength)
    fig.suptitle(title_chars, fontsize=16)
    
    fig.tight_layout()
    
    
    title_chars = 'figs/Homoclinic_bifs_coup_' + str(coupling_strength) + '.png'
    # fig.savefig(title_chars, format='png')
    title_chars






osc_plot = 0

if resolution_amp == 1:
    
    fig, ax = subplots(figsize=(6, 4))
            
    # Forward
    for xe, ye in zip(pulse_freqs, results_max_f[osc_plot]):

        if not isinstance(ye, ndarray):
            ax.scatter(xe, ye, c='r', s=5)
        else:
            ax.scatter([xe] * len(ye), ye, s=10, marker='o', facecolors='r')

    for xe, ye in zip(pulse_freqs, results_min_f[osc_plot]):

        if not isinstance(ye, ndarray):
            ax.scatter(xe, ye, c='b', s=5)
        else:
            ax.scatter([xe] * len(ye), ye, s=10, marker='o', facecolors='b')

    # y_min, y_max = ax[osc].get_ylim()
    y_min, y_max = -4, 4
    ax.set_ylim(y_min, y_max)

    ax.set_yticks(linspace(y_min, y_max, 3));
    ax.set_yticklabels(around(linspace(y_min, y_max, 3),1), fontsize=16);

    label_text = 'Osc ' + str(osc_plot+1)
    ax.set_ylabel(label_text, fontsize=14)

    ax.set_xticks(linspace(pulse_freqs[0], pulse_freqs[-1], 6));
    ax.set_xticklabels(around(linspace(pulse_freqs[0], pulse_freqs[-1], 6), 2), fontsize=16);
    ax.set_xlabel('Frequency', fontsize=16)
    
    title_chars = 'Coupling Strength = ' + str(coupling_strength)
    fig.suptitle(title_chars, fontsize=16)
    
    fig.tight_layout()
    
    
    title_chars = 'figs/Homoclinic_bifs_coup_' + str(coupling_strength) + '.png'
    # fig.savefig(title_chars, format='png')
    title_chars






pert_matrix_maxima = zeros(3)

per_inds = list()

for index in arange(N):
    
    result = where(results_pert_matrix[:,:,index] == max(results_pert_matrix[:,:,index]))    
    per_inds.append([ind for ind in result])
    
print('Freguency         Amplitude')

best_stim_params = list()

for index in arange(N):
    best_stim_params.append((pulse_freqs[int(per_inds[index][0][0])], pulse_amplis[int(per_inds[index][1][0])]))

# Pulse protocol (other parameters as above)
# pulse_width   = 5
pulse_freq      = 1.0
pulse_amplitude = 1.8

# pulse_freq, pulse_amplitude = best_stim_params[pert_osc][0], best_stim_params[pert_osc][1]


time_stop_s  = 100
time_steps_s = time_stop_s*sr
time_s       = linspace(start=0, stop=time_stop_s, num=time_steps_s)


if pert_osc == 0:


    pulse = pulse_amplitude*ss.rect(mod(time_s, 1/pulse_freq)-(1/pulse_freq)/2-pulse_width/2, pulse_width)
    
    h_ex_p = h_ex_0 + pulse

elif pert_osc == 1:

    pulse = pulse_amplitude*ss.rect(mod(time_s, 1/pulse_freq)-(1/pulse_freq)/2-pulse_width/2, pulse_width)
    
    h_ex_p = h_ex_0 + pulse - 0.15
    
elif pert_osc == 2:

    pulse = pulse_amplitude*ss.rect(mod(time_s, 1/pulse_freq)-(1/pulse_freq)/2-pulse_width/2, pulse_width)
    
    h_ex_p = h_ex_0 + pulse - 0.30


# Simulation
y_p = odeint(func=N_osc_pert, y0=y_ini, t=time_s, args=(N, coupling_matrix, 
           flag, pert_osc, sr, time_steps_s, h_ex_0, h_ex_p), hmax=0.1)

fig = figure(constrained_layout=True, figsize=(6,4))

gs  = fig.add_gridspec(7, 1)

ax1 = fig.add_subplot(gs[:5])

factor = 0.5

plot_data = y_p[:, ::2]

ax1.plot(time_s, plot_data - factor*arange(chan_select), linewidth=1, c='b')
ax1.set_xticklabels([])
ax1.set_yticks([])
ax1.margins(x=0)

ax2 = fig.add_subplot(gs[6])

ax2.plot(time_s, h_ex_p, c='r', label='Stimulus')
ax2.legend()
ax2.set_ylabel('Parameter', fontsize=12)
ax2.margins(x=0)
ax2.set_xlabel('Time', fontsize=12)


ax3 = fig.add_subplot(gs[5])

ax3.imshow(    plot_data.T, aspect='auto', cmap='Reds', interpolation='hermite', vmax=5);

ax3.set_yticks(arange(chan_select))
ax3.set_yticklabels(arange(chan_select)+1)
ax3.set_xticks(linspace(1, plot_data.shape[0], chan_select))
ax3.set_xticklabels(linspace(-10, 50, chan_select))

ax3.set_xticklabels([])

print(around(pulse_freq, 2), '             ', pulse_amplitude)

# title_chars = 'figs/homoclinic_pert_response_h_ex_' + str(pert_osc) + '_' + str(around(h_ex_0, 2)) + '_coup_' + str(coupling_strength) + '.png'
# # fig.savefig(title_chars, format='png')
# title_chars


plot_data.T.shape, chan_select



