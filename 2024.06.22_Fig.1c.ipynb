{
 "cells": [
  {
   "cell_type": "markdown",
   "id": "b46b2bcc-0a7d-41e8-a6a1-7e9f078fcead",
   "metadata": {},
   "source": [
    "#### Time Series of sEEG Data\n"
   ]
  },
  {
   "cell_type": "markdown",
   "id": "63556f49-b317-48cd-bfca-41c6d048ee73",
   "metadata": {},
   "source": [
    "# Imports"
   ]
  },
  {
   "cell_type": "code",
   "execution_count": 1,
   "id": "db92fbc9-52c0-4a64-83a0-ca956f20e9a7",
   "metadata": {},
   "outputs": [],
   "source": [
    "from pandas import read_csv, DataFrame\n",
    "\n",
    "import scipy.signal as signal\n",
    "\n",
    "from matplotlib.pyplot import subplots, xticks, yticks, axis, figure\n",
    "\n",
    "from numpy import arange, gradient, linspace, mod, tanh, var, asarray, around\n",
    "from numpy import loadtxt, asarray, linspace, flip, arange, zeros, angle, unwrap, exp\n",
    "from numpy import flip, zeros, ones, sqrt, where, max, min, angle, unwrap\n",
    "from numpy import fill_diagonal, repeat, hstack, ndarray, corrcoef, exp\n"
   ]
  },
  {
   "cell_type": "markdown",
   "id": "e7d27278-f6d0-459c-b239-822e510e3b71",
   "metadata": {},
   "source": [
    "# Function Definitions"
   ]
  },
  {
   "cell_type": "code",
   "execution_count": 2,
   "id": "462f1d1a-a23f-4069-8ef2-6e5fd6eb0813",
   "metadata": {},
   "outputs": [],
   "source": [
    "def filter_eeg(data, filter_settings, sr):\n",
    "\n",
    "    import scipy.signal as signal\n",
    "    from numpy import zeros\n",
    "\n",
    "    rows  = data.shape[0]\n",
    "    chans = data.shape[1] \n",
    "\n",
    "    sos = signal.butter(filter_settings[0], (filter_settings[1], filter_settings[2]), btype='bandpass', fs=sr, output='sos')\n",
    "\n",
    "    data_filtered = zeros((rows, chans))\n",
    "\n",
    "    for index, column in enumerate(data.transpose()): \n",
    "        forward = signal.sosfilt(sos, column)\n",
    "        backwards = signal.sosfilt(sos, forward[-1::-1])\n",
    "        data_filtered[:, index] = backwards[-1::-1]\n",
    "        \n",
    "    return data_filtered\n"
   ]
  },
  {
   "cell_type": "code",
   "execution_count": 3,
   "id": "3956e198-7d65-4e29-9963-4af05458e784",
   "metadata": {},
   "outputs": [],
   "source": [
    "def plot_series(time, data, time_stop, sr):\n",
    "\n",
    "    name_vars = ('Ex', 'In')\n",
    "    \n",
    "    no_vars = len(name_vars)\n",
    "    \n",
    "    N = data.shape[1]//no_vars\n",
    "\n",
    "    if N == 1:\n",
    "    \n",
    "        fig, ax = subplots(ncols=len(name_vars), figsize=(10, 6))\n",
    "        \n",
    "        for ind in arange(no_vars):\n",
    "            \n",
    "            ax[ind].plot(time, y[:, ind], linewidth=2, c='b')\n",
    "            ax[ind].set_xticks(linspace(0, time_stop, 5));\n",
    "            ax[ind].set_xticklabels([]);\n",
    "            ax[ind].set_xlabel('Time', fontsize=14);\n",
    "            ax[ind].set_ylabel(name_vars[ind], fontsize=14)\n",
    "            y_min, y_max = ax[ind].get_ylim()\n",
    "            ax[ind].set_yticks(linspace(y_min, y_max, 3));\n",
    "            ax[ind].set_yticklabels(around(linspace(y_min, y_max, 3),1), fontsize=14);\n",
    "    \n",
    "    else:\n",
    "        \n",
    "        y_max1 = max(data[:,::2])\n",
    "        y_min1 = min(data[:,::2])\n",
    "\n",
    "        y_max1_ax = y_max1 + 0.1*(y_max1-y_min1)\n",
    "        y_min1_ax = y_min1 - 0.1*(y_max1-y_min1)\n",
    "\n",
    "        y_max2 = max(data[:,1::2])\n",
    "        y_min2 = min(data[:,1::2])\n",
    "\n",
    "        y_max2_ax = y_max2 + 0.1*(y_max2-y_min2)\n",
    "        y_min2_ax = y_min2 - 0.1*(y_max2-y_min2)\n",
    "    \n",
    "        \n",
    "        fig, ax = subplots(ncols=no_vars, nrows=N, figsize=(10, 6))\n",
    "        \n",
    "        for osc in arange(N):\n",
    "            for ind in arange(no_vars):\n",
    "                \n",
    "                if ind == 0:\n",
    "                    ax[osc, ind].plot(time, data[:, 2*osc+ind], linewidth=2, c='b')\n",
    "                    ax[osc, ind].set_xticklabels([]);\n",
    "                    ax[osc, ind].set_ylim(y_min1_ax, y_max1_ax)   \n",
    "                    ax[osc, ind].set_yticks(linspace(y_min1_ax, y_max1_ax, 3));\n",
    "                    ax[osc, ind].set_yticklabels(around(linspace(y_min1_ax, y_max1_ax, 3),1), fontsize=14);\n",
    "    \n",
    "                elif ind == 1:\n",
    "                    ax[osc, ind].plot(time, data[:, 2*osc+ind], linewidth=2, c='r')\n",
    "                    ax[osc, ind].set_xticklabels([]);\n",
    "                    ax[osc, ind].set_ylim(y_min2_ax, y_max2_ax)\n",
    "                    ax[osc, ind].set_yticks(linspace(y_min2_ax, y_max2_ax, 3));\n",
    "                    ax[osc, ind].set_yticklabels(around(linspace(y_min2_ax, y_max2_ax, 3),1), fontsize=14);\n",
    "                    \n",
    "                if osc == N-1:\n",
    "                    \n",
    "                    ax[N-1, ind].set_xlabel('Time', fontsize=14);\n",
    "                    ax[N-1, ind].set_xticks(linspace(0, time_stop, 5));\n",
    "                    ax[N-1, ind].set_xticklabels(around(linspace(0, time_stop/sr, 5), 2));\n",
    "    \n",
    "                label_text = name_vars[ind] + str(osc+1)\n",
    "    \n",
    "                ax[osc, ind].set_ylabel(label_text, fontsize=14)\n",
    "                      \n",
    "    fig.tight_layout()\n",
    "    \n",
    "    return fig, ax\n",
    "    "
   ]
  },
  {
   "cell_type": "code",
   "execution_count": 4,
   "id": "5366363c-6a4e-47ca-a1aa-12f395e0c5cd",
   "metadata": {},
   "outputs": [],
   "source": [
    "def phase_lock(data, sr):\n",
    "    \n",
    "    # sos = butter(order, (params[0],params[1]), btype='bandpass', fs=sr, output='sos')\n",
    "\n",
    "    rows     = data.shape[0]\n",
    "    channels = data.shape[1]\n",
    "    \n",
    "    time_end = int(rows / sr)\n",
    "    time     = linspace(0, time_end, rows)\n",
    "\n",
    "    signal_phases = zeros((len(time), channels))\n",
    "\n",
    "    for index, column in enumerate(data.transpose()):\n",
    "    \n",
    "        instantaneous_phase = angle(signal.hilbert(column))\n",
    "        inst_phase_unwrap   = unwrap(instantaneous_phase)\n",
    "        signal_phases[:, index] = inst_phase_unwrap\n",
    "    \n",
    "    phase_lock_mat = zeros((channels, channels))\n",
    "\n",
    "    for index1, column in enumerate(signal_phases.transpose()):\n",
    "        for index2 in arange(index1+1, channels):\n",
    "              \n",
    "            phase_diff = column - signal_phases[:, index2]\n",
    "            phase_lock_mat[index1, index2] = abs(sum(exp(-1j*phase_diff)))/phase_diff.size\n",
    "\n",
    "    return phase_lock_mat\n"
   ]
  },
  {
   "cell_type": "markdown",
   "id": "16b1d5ed-bf59-43ac-ae4e-50c73efa9da4",
   "metadata": {},
   "source": [
    "# EEG Data\n",
    "\n",
    "Tumour_2017linzhijing\n",
    "\n",
    "FCD_II_2019zhangpeiyao\n",
    "\n",
    "HS_2019zhengyaqi\n",
    "\n",
    "FCD_II_2019xingshuo\n",
    "\n",
    "FCD_II_2018wangli\n",
    "\n",
    "HS_2018wuzhisen\n"
   ]
  },
  {
   "cell_type": "code",
   "execution_count": 5,
   "id": "be8df9fc-061a-4a6f-a0ed-136e0d1a6b7f",
   "metadata": {},
   "outputs": [
    {
     "data": {
      "text/plain": [
       "('HS_2018wuzhisen',\n",
       " 180000,\n",
       " 11,\n",
       " ['B1-B2', 'B2-B3', 'B3-B4', 'B4-B5', 'B5-B6', 'B6-B7', 'B7-B8', 'B8-B9'])"
      ]
     },
     "execution_count": 5,
     "metadata": {},
     "output_type": "execute_result"
    }
   ],
   "source": [
    "# Read data from csv\n",
    "patient = 'HS_2018wuzhisen' # This patient has hippocampal sclerosis and mTLE seizures\n",
    "\n",
    "path = '/Users/geroldbaier/Library/CloudStorage/Dropbox/EEG/EEG_Data/' + patient + '/Series/Seizure_Onset_B_slow.csv'\n",
    "df = read_csv(path, sep=' ', header=None)\n",
    "\n",
    "data_np = df.to_numpy()\n",
    "\n",
    "data = data_np[:, :]\n",
    "\n",
    "sr = 1000\n",
    "\n",
    "all_labels_list = []\n",
    "\n",
    "label_path = '/Users/geroldbaier/Library/CloudStorage/Dropbox/EEG/EEG_Data/' + patient + '/Series/All_onsets_labels_B.txt'\n",
    "\n",
    "with open(label_path, 'r') as file:\n",
    "    \n",
    "    for line in file:\n",
    "\n",
    "        label = line[:-1]\n",
    "        all_labels_list.append(label)\n",
    "\n",
    "rows, chans = data.shape\n",
    "\n",
    "chan_select = 8\n",
    "\n",
    "if chan_select >= len(all_labels_list):\n",
    "\n",
    "    print('not enough EEG time series')\n",
    "\n",
    "else:\n",
    "    \n",
    "    chan_names = all_labels_list[:chan_select]\n",
    "\n",
    "patient, rows, chans, chan_names"
   ]
  },
  {
   "cell_type": "code",
   "execution_count": 6,
   "id": "b36cd001-a9a0-4a15-a8b7-36a30d32988b",
   "metadata": {},
   "outputs": [
    {
     "data": {
      "text/plain": [
       "(180000, 11)"
      ]
     },
     "execution_count": 6,
     "metadata": {},
     "output_type": "execute_result"
    }
   ],
   "source": [
    "sr = 1000\n",
    "\n",
    "sample_start = 0  \n",
    "sample_end   = sample_start + rows\n",
    "\n",
    "order, low, high = 5, 1, 12\n",
    "\n",
    "filter_settings = [order, low, high]\n",
    "\n",
    "data_filtered = filter_eeg(data, filter_settings, sr)\n",
    "\n",
    "data_filtered.shape\n"
   ]
  },
  {
   "cell_type": "markdown",
   "id": "367f3e12-fc57-4e00-9e2c-d6caf145e2c6",
   "metadata": {},
   "source": [
    "## Display Electrode"
   ]
  },
  {
   "cell_type": "code",
   "execution_count": 7,
   "id": "b2c3caff-6181-4863-87dd-2975a513fcf2",
   "metadata": {},
   "outputs": [
    {
     "data": {
      "text/plain": [
       "'Figs/Fig_1/Fig_1C.png'"
      ]
     },
     "execution_count": 7,
     "metadata": {},
     "output_type": "execute_result"
    },
    {
     "data": {
      "image/png": "[encoded data removed]",
      "text/plain": [
       "<Figure size 800x200 with 3 Axes>"
      ]
     },
     "metadata": {},
     "output_type": "display_data"
    }
   ],
   "source": [
    "elec = 'B'\n",
    "\n",
    "data_elec = data_filtered\n",
    "\n",
    "segment = 0\n",
    "\n",
    "onset_time = 97.5\n",
    "\n",
    "seconds_pre, seconds_ict = 60, 12\n",
    "\n",
    "start = int(onset_time*sr) - seconds_pre*sr\n",
    "stop  = int(onset_time*sr) + seconds_ict*sr\n",
    "\n",
    "rows_select = rows // 2\n",
    "\n",
    "data_select = data_filtered[:rows_select, :chan_select]\n",
    "\n",
    "phase_lock_mat = phase_lock(data_select, sr)\n",
    "\n",
    "phase_lock_mat_full = phase_lock_mat + phase_lock_mat.T\n",
    "\n",
    "\n",
    "offset = 500\n",
    "\n",
    "vmin, vmax = -100, 100\n",
    "\n",
    "###################################################\n",
    "\n",
    "fig = figure(constrained_layout=True, figsize=(8,2))\n",
    "\n",
    "gs  = fig.add_gridspec(1, 4)\n",
    "\n",
    "ax1 = fig.add_subplot(gs[:3])\n",
    "\n",
    "ax1.plot(data_elec[start:stop, :chan_select] + offset*arange(chan_select-1,-1,-1), \n",
    "        linewidth=1, color='b');\n",
    "\n",
    "ax1.set_yticks(offset*arange(chan_select))\n",
    "ax1.set_yticklabels(flip(arange(chan_select)))\n",
    "ax1.margins(x=0)\n",
    "ax1.set_xticks((0, seconds_pre*sr, (seconds_pre + seconds_ict)*sr-1))\n",
    "labl = (-seconds_pre, 0, seconds_ict)\n",
    "ax1.set_xticklabels(labl, fontsize=12)\n",
    "ax1.set_yticks(offset*arange(len(chan_names)));\n",
    "ax1.set_yticklabels(flip(chan_names));\n",
    "ax1.vlines(onset_time*sr-start, -200, 2300, color=\"k\", \n",
    "          linestyles='dashed', linewidth=1);\n",
    "ax1.set_xlabel('Time (seconds)', fontsize=12);\n",
    "\n",
    "ax2 = fig.add_subplot(gs[3])\n",
    "\n",
    "im = ax2.imshow(phase_lock_mat_full, cmap='bwr', vmax=1);\n",
    "\n",
    "fig.colorbar(im, ax=ax2, ticks=(0, 0.5, 1), shrink = 0.8);\n",
    "\n",
    "\n",
    "title_chars = 'Figs/Fig_1/Fig_1C.png'\n",
    "\n",
    "# fig.savefig(title_chars, dpi=300, format='png', bbox_inches='tight')\n",
    "title_chars\n"
   ]
  },
  {
   "cell_type": "markdown",
   "id": "a53d8d69-f49b-42f8-bc79-5aebe9eea28b",
   "metadata": {},
   "source": [
    "# Figure 1 Caption:\n",
    "\n",
    "Figure 1A | Exemplar SEEG electrode implantation. (a) A slice of co-registered CT and MRI image. White dashed lines indicate the implanted depth electrodes. (b) Electrodes (indicated by dark pins) depicted in a three-dimensional brain model. Each electrode contains multiple contacts along its length, illustrated schematically by the four blue dots (named with 1-4) located in one of the electrodes. Figure adapted from a study by Li G. et al.19.\n",
    "\n",
    "Figure 1B | Schematic diagram of an electrode with six contacts (top) and the connectivity within and between the underlying neural populations associated with the contacts (below). Black areas on the electrode depict each contact. E1-E5 denote the excitatory populations and I1-I5 denote the inhibitory populations. This figure depicts how excitation spreads within one oscillator as well as between neighbouring oscillators. The black arrows indicate excitation (with arrowhead) and inhibition (rectangular block) within an oscillator. Red arrows represent excitatory connections between neighbouring excitatory populations. Green arrows (H_E1 - H_E5) represent constant input to excitatory populations. Blue arrows (H_I1 - H_I5) represent constant input to inhibitory populations.\n",
    "\n",
    "Figure 1C | Time series of sEEG from the body of the hippocampus in bipolar montage. Clinically annotated seizure onset marked as “0”.  "
   ]
  },
  {
   "cell_type": "code",
   "execution_count": null,
   "id": "9576b689-b616-455e-b1d2-3e3db41bef41",
   "metadata": {},
   "outputs": [],
   "source": []
  }
 ],
 "metadata": {
  "kernelspec": {
   "display_name": "Python 3 (ipykernel)",
   "language": "python",
   "name": "python3"
  },
  "language_info": {
   "codemirror_mode": {
    "name": "ipython",
    "version": 3
   },
   "file_extension": ".py",
   "mimetype": "text/x-python",
   "name": "python",
   "nbconvert_exporter": "python",
   "pygments_lexer": "ipython3",
   "version": "3.11.6"
  }
 },
 "nbformat": 4,
 "nbformat_minor": 5
}
