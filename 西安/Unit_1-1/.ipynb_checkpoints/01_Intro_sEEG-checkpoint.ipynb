{
 "cells": [
  {
   "cell_type": "markdown",
   "id": "c3483c59-8c2a-49cd-a335-a9aa1850549f",
   "metadata": {},
   "source": [
    "(C) Gerold Baier, University College London, 2024"
   ]
  },
  {
   "cell_type": "markdown",
   "id": "e16540f8-3fd8-465b-bcb9-90d1154e2550",
   "metadata": {},
   "source": [
    "# Complex Dynamical Systems\n",
    "\n",
    "We will study brain activity with invasive recordings in humans. Brain activity is an example of a complex dynamical system. \n",
    "\n",
    "\n",
    "Invasive recordings (lasting for a few days) can only be done under strict clinical restrictions, e.g. to prepare for brain surgery. Nevertheless, they allow to find out what is going on in the brain while the human subject lives a (comparatively) normal life. This is normally not possible under any other conditions. \n"
   ]
  },
  {
   "cell_type": "markdown",
   "id": "11e1a25d-8123-4fca-8a4f-db4fe0d21375",
   "metadata": {},
   "source": [
    "# Stereo Electroencephalography\n",
    "\n",
    "Insulated needles are implanted in patients to record electric brain activity.\n",
    "\n",
    "![](Figs/01_stereo_electrodes_scheme.png)\n"
   ]
  },
  {
   "cell_type": "markdown",
   "id": "408b9a56-585f-4ef8-b7ad-2fae656f75bc",
   "metadata": {},
   "source": [
    "The technique is called stereo electroencephalography (sEEG) and dates from the 1960s.\n",
    "\n",
    "![](Figs/03_electrodes_implanted_1962.png)\n",
    "\n",
    "This is the display of a full implantation based on a CT of the patient.\n",
    "\n",
    "![](Figs/04_electrodes_implanted_2020.png)\n",
    "\n",
    "Goal of the recording is to find the best location for surgery.\n",
    "\n",
    "Until today, most clinical analysis is done by visual inspection.\n",
    "\n",
    "![](Figs/05_Recording_IED_Onset.png)\n",
    "\n",
    "Having access to digitally recordings, we can use data science, machine learning, and mathematical modelling to  better understand the human EEG.\n",
    "\n",
    "If successful, we can build a new theory of how the brain works.\n"
   ]
  },
  {
   "cell_type": "markdown",
   "id": "8529accb-fb8e-4004-95ed-890ababc8d53",
   "metadata": {},
   "source": [
    "\n",
    "Until today, most clinical analysis is done by visual inspection.\n",
    "\n",
    "![](Figs/05_Recording_IED_Onset.png)\n",
    "\n",
    "Having access to digitally recordings, we can use data science, machine learning, and mathematical modelling to  better understand the human EEG.\n",
    "\n",
    "If successful, we can build a new theory of how the brain works."
   ]
  },
  {
   "cell_type": "markdown",
   "id": "92f51046-af79-42b3-b5d3-dad67bb9a2d1",
   "metadata": {},
   "source": [
    "# Import Data\n",
    "\n",
    "Import one minute of recording\n",
    " \n",
    "You will need Pandas, Numpy, Matplotlib. \n",
    "\n",
    "```conda install pandas```\n"
   ]
  },
  {
   "cell_type": "code",
   "execution_count": 2,
   "id": "468a7036-019c-493f-8cb9-8f79c9a43f61",
   "metadata": {
    "tags": []
   },
   "outputs": [],
   "source": [
    "from pandas import read_csv\n",
    "from numpy import asarray"
   ]
  },
  {
   "cell_type": "code",
   "execution_count": 1,
   "id": "822ed4e1-131d-43ce-be77-2f0efa0b84a3",
   "metadata": {},
   "outputs": [],
   "source": [
    "# read prefiltered 20 sec segment\n",
    "\n",
    "chars        = '../Data/sampling_rate.txt'\n",
    "\n",
    "df1          = read_csv(chars, header=None)\n",
    "\n",
    "sr           = df1.iloc[0, 0]\n",
    "\n",
    "series_chars = '../Data/Pat1_Sz01.csv'\n",
    "\n",
    "df2 = read_csv(series_chars)\n",
    "\n",
    "data_np = df2.to_numpy()\n",
    "data_prefiltered = data_np[:, 1:]\n",
    "\n",
    "all_labels = df2.columns[1:]\n",
    "    \n",
    "all_labels_np = asarray(all_labels)\n",
    "\n",
    "letter_list = list()\n",
    "\n",
    "for new in all_labels:\n",
    "    \n",
    "    if new[0] not in letter_list:\n",
    "        \n",
    "        letter_list.append(new[0])\n",
    "\n",
    "\n",
    "label_dict = dict()\n",
    "\n",
    "for ind, letter in enumerate(all_labels):\n",
    "    \n",
    "    if letter[0] in label_dict.keys():\n",
    "            pass\n",
    "\n",
    "    else:\n",
    "        label_dict[letter[0]] = [ind]   \n",
    "        \n",
    "        dict_ind = len(label_dict.keys())\n",
    "        \n",
    "        if letter[0] != all_labels[0][0]:\n",
    "            previous_letter = letter_list[dict_ind - 2]\n",
    "            label_dict[previous_letter].append(ind)\n",
    "            \n",
    "    if ind == len(all_labels)-1:  \n",
    "        label_dict[letter[0]].append(ind+1)\n",
    "\n",
    "label_letters = list(label_dict.keys())\n",
    "\n",
    "label_dict"
   ]
  },
  {
   "cell_type": "markdown",
   "id": "1ae3d844-41d5-4893-95e3-029157f6b1d5",
   "metadata": {},
   "source": [
    "# First Look at the sEEG"
   ]
  },
  {
   "cell_type": "code",
   "execution_count": 2,
   "id": "3dd10086-b3be-4408-8ec1-0a18334cc65f",
   "metadata": {},
   "outputs": [],
   "source": [
    "data_prefiltered.shape"
   ]
  },
  {
   "cell_type": "code",
   "execution_count": 3,
   "id": "5f2c8bbb-e25f-437b-8e48-21aa994dcf3b",
   "metadata": {},
   "outputs": [],
   "source": [
    "from matplotlib.pyplot import subplots\n",
    "\n",
    "fig, ax = subplots()\n",
    "\n",
    "ax.plot(data_prefiltered);"
   ]
  },
  {
   "cell_type": "markdown",
   "id": "3630cbb7-e4b1-48ab-93b3-b2f5f705543a",
   "metadata": {},
   "source": [
    "These data contain 60 seconds at a sampling rate of 1000 Hz.\n"
   ]
  },
  {
   "cell_type": "code",
   "execution_count": 6,
   "id": "dbec820d-8fc6-4dd1-a331-e422067dcf84",
   "metadata": {},
   "outputs": [],
   "source": [
    "def my_eeg_plot(data, factor):\n",
    "    '''\n",
    "    plot time series with offset\n",
    "    '''\n",
    "    from numpy import arange, linspace\n",
    "    \n",
    "    columns = data.shape[1]\n",
    "    \n",
    "    offset = arange(columns)\n",
    "    \n",
    "    fig, ax = subplots()\n",
    "        \n",
    "    ax.plot(data + offset*factor, c='gray')\n",
    "    ax.set_yticks([])\n",
    "    ax.set_xticks(linspace(0, data.shape[0], 3))\n",
    "    ax.set_xticklabels(linspace(0, data.shape[0]//sr, 3))\n",
    "    ax.set_xlabel(\"Time (seconds)\")\n",
    "\n",
    "    return fig, ax\n"
   ]
  },
  {
   "cell_type": "code",
   "execution_count": 4,
   "id": "33852dbc-6f83-455b-8c6f-1a3841c67d4a",
   "metadata": {},
   "outputs": [],
   "source": [
    "my_eeg_plot(data_prefiltered[:, :31], 1000);"
   ]
  },
  {
   "cell_type": "markdown",
   "id": "991f5f70-d0a6-409a-89af-4f91fb92be4b",
   "metadata": {},
   "source": [
    "# Conclusion\n",
    "\n",
    "sEEG is a medically important recording in neurosurgery but the signal is surprisingly unspecific and for the most part looks like noisy fluctuations. \n",
    "\n",
    "This changes when the subject has an epileptic seizure (as we will see later). However, the random nature is in contrast to the common assumption that the brain is not a noise generator but a sophisticated information processor. It is dynamic nature is (by and large) at present not understood and thus an important application for dynamical systems theory. \n"
   ]
  },
  {
   "cell_type": "markdown",
   "id": "2d294a5a-cf1c-4913-8da0-e68397f9951a",
   "metadata": {},
   "source": [
    "# Try It Yourself\n",
    "\n",
    "> Modify the code to display data where each column has been normalised to have `mean=0` and `std=1`.\n",
    "\n",
    "> Describe what you see. You can change the selection by slicing the Numpy array.\n"
   ]
  },
  {
   "cell_type": "markdown",
   "id": "10619092-0dbc-449d-a38d-52cabe65749b",
   "metadata": {},
   "source": [
    "# Notes on the Reading\n",
    "\n",
    "## The History and Principles of Stereo EEG, by Patrick Chauvel\n",
    "\n",
    "A lot of literature is available about EEG recordings from the surface of the skull (the normal way of recording). This unique review by Chauvel explains the history of how invasive recordings have been made possible. Look at figure 1.1 to see how complicated it is to make sure that the needles find their right position in the brain. \n",
    "\n",
    "## Physiological Activity Recorded With Intracranial EEG, by Laure Peter-Derex, Nicolás von Ellenrieder, and Birgit Frauscher\n",
    "\n",
    "This overview paper shows how clinical neurologists deal with the interpretation of the signals recorded invasively. A major focus is to decide whether some unusual feature is relevant or an unwanted recording artifact. Conclusions made without proper training in this area are often useless. \n",
    "\n",
    "As you can see in Fig. 24.1, there are specific features which are considered normal if the subject is awake. Other features, as shown in 24.3, are typical findings during sleep and do not present abnormality.\n"
   ]
  }
 ],
 "metadata": {
  "kernelspec": {
   "display_name": "Python 3 (ipykernel)",
   "language": "python",
   "name": "python3"
  },
  "language_info": {
   "codemirror_mode": {
    "name": "ipython",
    "version": 3
   },
   "file_extension": ".py",
   "mimetype": "text/x-python",
   "name": "python",
   "nbconvert_exporter": "python",
   "pygments_lexer": "ipython3",
   "version": "3.11.6"
  },
  "toc-autonumbering": true,
  "toc-showmarkdowntxt": false
 },
 "nbformat": 4,
 "nbformat_minor": 5
}
