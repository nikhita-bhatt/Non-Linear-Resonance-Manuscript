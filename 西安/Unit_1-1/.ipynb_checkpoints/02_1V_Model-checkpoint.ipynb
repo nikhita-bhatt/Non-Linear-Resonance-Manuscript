{
 "cells": [
  {
   "cell_type": "markdown",
   "metadata": {},
   "source": [
    "(C) Gerold Baier, University College London, 2024"
   ]
  },
  {
   "cell_type": "markdown",
   "metadata": {},
   "source": [
    "# Theory of Dynamical Systems\n",
    "\n",
    "## Import Functions"
   ]
  },
  {
   "cell_type": "markdown",
   "metadata": {},
   "source": [
    "Packages:\n",
    " \n",
    "You will need Scipy, Numpy, Matplotlib. \n",
    "\n",
    "```conda install scipy```\n"
   ]
  },
  {
   "cell_type": "code",
   "execution_count": 1,
   "metadata": {},
   "outputs": [],
   "source": [
    "from scipy.integrate import odeint\n",
    "\n",
    "from numpy import tanh, gradient, linspace, ndarray\n",
    "from numpy import around, arange, flip\n",
    "from numpy.random import uniform\n",
    "\n",
    "from matplotlib.pyplot import subplots\n"
   ]
  },
  {
   "cell_type": "markdown",
   "metadata": {},
   "source": [
    "## Mathematical Model of a Neural Populations\n",
    "\n",
    "Single Variable, first-order differential equation\n",
    "\n",
    "The equation:\n",
    "\n",
    "$$ \\frac{dEx}{dt} = h_{ex} - Ex + c_1*tanh(Ex) $$\n",
    "\n",
    "where $Ex$ is a variable that changes with time $t$, $h_{ex}$ and $c_1$ are model parameters, and `tanh` is the tangens hyperbolicus.\n",
    "\n",
    "The equation is thought to represent a mesoscopic variable resulting from the mean of myriads of local cellular activities. Estimation: about 500,000 to 1,000,000 neurons under a single EEG contact.\n",
    "\n",
    "We have a look at the impact a nonlinear function like the `tanh` has on the solutions of the equation. For this we use $c_1$ as a control parameter. For $c_1=0$, the model is linear, for   $c_1>0$, the model is nonlinear."
   ]
  },
  {
   "cell_type": "markdown",
   "metadata": {},
   "source": [
    "## Check Nonlinear Function"
   ]
  },
  {
   "cell_type": "code",
   "execution_count": 1,
   "metadata": {},
   "outputs": [],
   "source": [
    "x_array = linspace(-10, 10, 100)\n",
    "\n",
    "y_array = tanh(x_array)\n",
    "\n",
    "fig, ax = subplots(figsize=(4, 2))\n",
    "\n",
    "ax.plot(x_array, y_array, color='b');"
   ]
  },
  {
   "cell_type": "markdown",
   "metadata": {},
   "source": [
    "# Function Definitions"
   ]
  },
  {
   "cell_type": "code",
   "execution_count": 3,
   "metadata": {},
   "outputs": [],
   "source": [
    "def sigmoid(u):\n",
    "    return tanh(u)\n",
    "\n",
    "def one_oscillator(y, t, h_ex_0, c_1, variation):\n",
    "\n",
    "    tau_ex = 1\n",
    "    \n",
    "    h_ex   = h_ex_0\n",
    "\n",
    "    dydt = (\n",
    "           (h_ex - y[0] + c_1*sigmoid(y[0]))*tau_ex,\n",
    "   )\n",
    "\n",
    "    return dydt\n"
   ]
  },
  {
   "cell_type": "code",
   "execution_count": 4,
   "metadata": {},
   "outputs": [],
   "source": [
    "def plot_series(time, data, time_begin, time_end, sr):\n",
    "        \n",
    "    name_var = ('Ex')\n",
    "    \n",
    "    series      = data[time_begin*sr:time_end*sr]\n",
    "    series_grad = gradient(data[time_begin*sr:time_end*sr], axis=0)\n",
    "        \n",
    "    fig, ax = subplots(figsize=(5, 3))\n",
    "\n",
    "    ax.plot(time[time_begin*sr:time_end*sr], series, linewidth=2, c='b')\n",
    "    ax.set_xticks(linspace(time_begin, time_end, 5));\n",
    "    ax.set_xticklabels(linspace(time_begin, time_end, 5), fontsize=12);\n",
    "    ax.set_xlabel('Time', fontsize=14);\n",
    "    ax.set_ylabel(name_var, fontsize=14)\n",
    "    y_min, y_max = ax.get_ylim()\n",
    "\n",
    "\n",
    "    fig.tight_layout()\n",
    "    \n",
    "    return fig, ax\n"
   ]
  },
  {
   "cell_type": "code",
   "execution_count": 5,
   "metadata": {},
   "outputs": [],
   "source": [
    "def run_bif_diagram(time_stop, sr, parset, y_ini, c_1, variation):\n",
    "\n",
    "    time = linspace(start=0, stop=time_stop, num=time_stop*sr)\n",
    "    \n",
    "    results_max_f      = dict()\n",
    "    results_max_inds_f = dict()\n",
    "    results_min_f      = dict()\n",
    "    results_min_inds_f = dict()\n",
    "    \n",
    "    rows = time.size\n",
    "    \n",
    "    num = 0\n",
    "    # Simulation \"forward\"\n",
    "    for par in par_set:\n",
    "        \n",
    "        y_f = odeint(func=one_oscillator, y0=y_ini, t=time, \n",
    "                 args=(par, c_1, variation), \n",
    "                 hmax=0.1)\n",
    "     \n",
    "        series = y_f[rows//2:]\n",
    "                 \n",
    "        if num not in results_max_f:\n",
    "    \n",
    "            results_max_f[num]      = [series[-1]]\n",
    "            results_max_inds_f[num] = [0]    \n",
    "            results_min_f[num]      = [series[-1]]\n",
    "            results_min_inds_f[num] = [0]    \n",
    "    \n",
    "        else:\n",
    "            results_max_f[num].append(series[-1])\n",
    "            results_max_inds_f[num].append(0)    \n",
    "            results_min_f[num].append(series[-1])\n",
    "            results_min_inds_f[num].append(0)               \n",
    "    \n",
    "        y_ini = y_f[-1, :]\n",
    "    \n",
    "    \n",
    "    results_max_b      = dict()\n",
    "    results_max_inds_b = dict()\n",
    "    results_min_b      = dict()\n",
    "    results_min_inds_b = dict()\n",
    "    \n",
    "    \n",
    "    # Simulation \"backward\"\n",
    "    for par in flip(par_set):\n",
    "        \n",
    "        y_b = odeint(func=one_oscillator, y0=y_ini, t=time, \n",
    "                 args=(par, c_1, variation), \n",
    "                 hmax=0.1)\n",
    "     \n",
    "    \n",
    "        series = y_b[rows//2:]\n",
    "                \n",
    "        if num not in results_max_b:\n",
    "    \n",
    "            results_max_b[num]      = [series[-1]]\n",
    "            results_max_inds_b[num] = [0]    \n",
    "            results_min_b[num]      = [series[-1]]\n",
    "            results_min_inds_b[num] = [0]    \n",
    "    \n",
    "        else:\n",
    "            results_max_b[num].append(series[-1])\n",
    "            results_max_inds_b[num].append(0)    \n",
    "            results_min_b[num].append(series[-1])\n",
    "            results_min_inds_b[num].append(0)               \n",
    "    \n",
    "            \n",
    "        y_ini = y_b[-1, :]\n",
    "    \n",
    "    return results_min_f, results_max_f, results_min_b, results_max_b\n",
    "\n",
    "\n",
    "def plot_bifdiagram(results_min_f, results_max_f, \n",
    "                    results_min_b, results_max_b,\n",
    "                    par_set, chars):\n",
    "    \n",
    "    N = len(results_min_f)\n",
    "\n",
    "    fig, ax = subplots()\n",
    "\n",
    "    for xe, ye in zip(par_set, results_max_f[0]):\n",
    "\n",
    "        if not isinstance(ye, ndarray):\n",
    "            ax.scatter(xe, ye, c='r', s=5)\n",
    "        else:\n",
    "            ax.scatter([xe] * len(ye), ye, c='b', s=50, marker='x')\n",
    "\n",
    "    for xe, ye in zip(par_set, results_min_f[0]):\n",
    "\n",
    "        if not isinstance(ye, ndarray):\n",
    "            ax.scatter(xe, ye, c='r', s=5)\n",
    "        else:\n",
    "            ax.scatter([xe] * len(ye), ye, c='b', s=50, marker='x')\n",
    "\n",
    "    for xe, ye in zip(flip(par_set), results_max_b[0]):\n",
    "\n",
    "        if not isinstance(ye, ndarray):\n",
    "            ax.scatter(xe, ye, c='r', s=5)\n",
    "        else:\n",
    "            ax.scatter([xe] * len(ye), ye, c='m', s=20, marker='P')\n",
    "\n",
    "    for xe, ye in zip(flip(par_set), results_min_b[0]):\n",
    "\n",
    "        if not isinstance(ye, ndarray):\n",
    "            ax.scatter(xe, ye, c='r', s=5)\n",
    "        else:\n",
    "            ax.scatter([xe] * len(ye), ye, c='m', s=20, marker='P')\n",
    "\n",
    "    ax.set_xticks(linspace(par_min, par_max, 5));\n",
    "    ax.set_xticklabels(around(linspace(par_min, par_max, 5), 2), fontsize=16);\n",
    "    ax.set_xlabel('Parameter', fontsize=16)\n",
    "\n",
    "    ax.set_ylabel('Ex', fontsize=14)\n",
    "\n",
    "    y_min, y_max = ax.get_ylim()\n",
    "\n",
    "    ax.set_yticks(linspace(y_min, y_max, 3));\n",
    "    ax.set_yticklabels(around(linspace(y_min, y_max, 3),1), fontsize=14);\n",
    "\n",
    "    title_chars = 'Starts from: ' + chars\n",
    "    fig.suptitle(title_chars, fontsize=16)\n",
    "\n",
    "    fig.tight_layout()\n",
    "    \n",
    "    return fig, ax\n"
   ]
  },
  {
   "cell_type": "code",
   "execution_count": null,
   "metadata": {},
   "outputs": [],
   "source": []
  },
  {
   "cell_type": "markdown",
   "metadata": {},
   "source": [
    "# Time Series\n",
    "\n",
    "Numerical simulation of the differential equation shows temporal evolution of the model variable(s).\n",
    "\n",
    "Stable conditions lead to an asymptotic fixed point. This is the predicted observation because stability assures that it would be robust in the presence of environmental noise.\n"
   ]
  },
  {
   "cell_type": "code",
   "execution_count": 2,
   "metadata": {},
   "outputs": [],
   "source": [
    "# Input parameter\n",
    "h_ex_0 = 0\n",
    "\n",
    "c_1 = 4 # 0 (linear); 1 (with gap); 4 (bistable)\n",
    "\n",
    "# Speed of parameter change\n",
    "variation = 0\n",
    "\n",
    "# Initial conditions\n",
    "y_ini = -5\n",
    "\n",
    "# Time array\n",
    "time_stop = 30\n",
    "sr        = 100\n",
    "time      = linspace(start=0, stop=time_stop, num=time_stop*sr)\n",
    "\n",
    "# Simulation\n",
    "y = odeint(func=one_oscillator, y0=y_ini, t=time, \n",
    "           args=(h_ex_0, c_1, variation), hmax=0.1)\n",
    "\n",
    "# Show final values of all variables\n",
    "print('Complete. Final value:', list(around(y[-1,:],3)))\n",
    "print('')"
   ]
  },
  {
   "cell_type": "code",
   "execution_count": 3,
   "metadata": {},
   "outputs": [],
   "source": [
    "time_begin, time_end = 0, time_stop\n",
    "\n",
    "fig, ax = plot_series(time, y, time_begin, time_end, sr)\n",
    "\n",
    "ax.set_ylim(-6, 6)\n",
    "\n",
    "title_chars = 'figs/Timeseries_h_ex_' + str(h_ex_0) + '.png'\n",
    "# fig.savefig(title_chars, format='png')\n",
    "print(title_chars)"
   ]
  },
  {
   "cell_type": "markdown",
   "metadata": {},
   "source": [
    "# Bifurcation Diagram\n",
    "\n",
    "The bifurcation diagram displays the asymptotic dynamics as a function of one model parameter. It summarises the outcome of many simulations and typically tries to exclude transient behaviour.\n"
   ]
  },
  {
   "cell_type": "code",
   "execution_count": 4,
   "metadata": {},
   "outputs": [],
   "source": [
    "# Initial conditions\n",
    "y_ini = y[-1, :]\n",
    "\n",
    "# Bifurcation parameter range\n",
    "steps = 30\n",
    "par_min, par_max = -3, 3\n",
    "\n",
    "par_set = linspace(par_min, par_max, steps)\n",
    "\n",
    "# Stop time\n",
    "time_stop = 100\n",
    "\n",
    "results_min_f, results_max_f, results_min_b, results_max_b = run_bif_diagram(time_stop, sr, par_set, y_ini, c_1, variation)\n",
    "\n",
    "print('Scan complete!')\n",
    "print('')\n"
   ]
  },
  {
   "cell_type": "code",
   "execution_count": 5,
   "metadata": {},
   "outputs": [],
   "source": [
    "# Plot\n",
    "if par_max < par_min:\n",
    "    \n",
    "    direct = 'right'\n",
    "    \n",
    "else:\n",
    "    \n",
    "    direct = 'left'\n",
    "    \n",
    "fig, ax = plot_bifdiagram(results_min_f, results_max_f, \n",
    "                          results_min_b, results_max_b, par_set, direct)\n"
   ]
  },
  {
   "cell_type": "markdown",
   "metadata": {},
   "source": [
    "# Conclusion\n",
    "\n",
    "The nonlinearity allows new solutions that are not present in the linear model. We think today that all of biology, including brain acitvity, is fundamentally nonlinear. If the model was a valid approximation of voltage fluctations in the human brain, it would predict the possibility to have more than one state coexisting. This offers hypothesis like binary switches (with the possibility to go from one state to the other and back again) and also a simple memory. \n",
    "\n",
    "In the next unit we will see that it also includes transient switches (similar to cellular action potentials) which form the basis of learning."
   ]
  },
  {
   "cell_type": "markdown",
   "metadata": {},
   "source": [
    "# Try It Yourself\n",
    "\n",
    "- Replace the $tanh$ function in the model with other functions to test their impact on the bifurcation diagram. \n",
    "\n",
    "Examples: \n",
    "$x^2$, $x^3$, $sin(x)$, $log(x)$, $1/(1+exp(-x))$.\n",
    "\n",
    "- As in the case of $tanh$, you can multiple the function with a control parameter to control its impact. \n",
    "\n",
    "- Modify the code to scan the control parameter instead of $h_{ex}$.\n",
    "\n",
    "Please share results that look interesting.\n"
   ]
  }
 ],
 "metadata": {
  "kernelspec": {
   "display_name": "Python 3 (ipykernel)",
   "language": "python",
   "name": "python3"
  },
  "language_info": {
   "codemirror_mode": {
    "name": "ipython",
    "version": 3
   },
   "file_extension": ".py",
   "mimetype": "text/x-python",
   "name": "python",
   "nbconvert_exporter": "python",
   "pygments_lexer": "ipython3",
   "version": "3.11.6"
  },
  "toc-autonumbering": false,
  "widgets": {
   "state": {
    "5422d38f63604076b5b082e547280e48": {
     "views": [
      {
       "cell_index": 2
      }
     ]
    }
   },
   "version": "1.2.0"
  }
 },
 "nbformat": 4,
 "nbformat_minor": 4
}
