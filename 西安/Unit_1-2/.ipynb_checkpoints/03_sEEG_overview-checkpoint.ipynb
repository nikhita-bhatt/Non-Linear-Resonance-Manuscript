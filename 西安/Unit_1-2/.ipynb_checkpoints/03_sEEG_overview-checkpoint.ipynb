{
 "cells": [
  {
   "cell_type": "markdown",
   "metadata": {},
   "source": [
    "(C) 2024, Gerold Baier, University College London"
   ]
  },
  {
   "cell_type": "markdown",
   "metadata": {},
   "source": [
    "After import of a segment of sEEG, we create a bandpass filtered version.\n",
    "\n",
    "We will try to interpret the time series in terms of oscillations. This challenges the assumption of an unchanging state of brain activity as modelled by a fixed point equation. \n"
   ]
  },
  {
   "cell_type": "markdown",
   "metadata": {},
   "source": [
    "# The EEG as an Oscillator\n",
    "## Import and Functions"
   ]
  },
  {
   "cell_type": "code",
   "execution_count": 2,
   "metadata": {},
   "outputs": [],
   "source": [
    "from numpy import pi, linspace, sin, diff, arange, asarray, ndarray, zeros, exp, array, linspace, median, gradient, around\n",
    "from numpy import triu, triu_indices, triu_indices_from, var, mean, std, sqrt, where, isnan, nan_to_num, delete, floor\n",
    "from numpy import nan, flip, argwhere, ones, diag, correlate, corrcoef, transpose, cov, flip, ceil, cos, sin, arctan\n",
    "from numpy import angle, exp, amax, amin, absolute, meshgrid, fill_diagonal, concatenate, c_, real, argsort, tile\n",
    "from numpy import empty_like, zeros_like, log, logical_and, copy, greater, invert, nonzero, count_nonzero, divide, repeat\n",
    "from numpy import sign, append, hstack, savetxt, loadtxt, histogram\n",
    "\n",
    "from numpy.random import normal, permutation\n",
    "from numpy.linalg import norm\n",
    "\n",
    "from matplotlib.pyplot import subplots, xlabel, ylabel, hist, bar, legend, axis\n",
    "from matplotlib.pyplot import figure, xticks, yticks, rcParams, show\n",
    "\n",
    "from scipy.optimize import curve_fit\n",
    "from scipy.signal   import butter, sosfilt, find_peaks\n",
    "from scipy.stats    import spearmanr, entropy\n",
    "from scipy.spatial  import distance\n",
    "from scipy.cluster  import hierarchy\n",
    "from scipy.interpolate import interp1d\n",
    "from scipy.fft import rfft, rfftfreq\n",
    "\n",
    "from sklearn.preprocessing import MinMaxScaler\n",
    "\n",
    "from pandas import read_csv, DataFrame\n",
    "\n",
    "import pyedflib\n",
    "\n",
    "from string import ascii_uppercase\n",
    "\n",
    "from itertools import product\n",
    "\n",
    "from math import dist\n"
   ]
  },
  {
   "cell_type": "code",
   "execution_count": 3,
   "metadata": {},
   "outputs": [],
   "source": [
    "def eeg_plot(data, offset, normalise=True):\n",
    "    \"\"\"\n",
    "    Plot date columns in EEG style\n",
    "    data:      two-dimensional array\n",
    "    offset:    scaling factor\n",
    "    normalise: normalisation of amplitudes to variance 1\n",
    "    \"\"\"\n",
    "    from matplotlib.pyplot import subplots\n",
    "    \n",
    "    start = 0\n",
    "    samples = data.shape[0]\n",
    "    electrodes = data.shape[1]\n",
    "\n",
    "    dataset = data[start:start+samples, :electrodes]\n",
    "    means = data[start:start+samples, :electrodes].mean(axis=0)\n",
    "    devs = data[start:start+samples, :electrodes].std(axis=0)\n",
    "\n",
    "    fig, ax = subplots(figsize=(8, 6))\n",
    "\n",
    "    if not normalise:\n",
    "        ax.plot((dataset - means)      + offset*arange(electrodes-1,-1,-1), linewidth=1);\n",
    "    else:\n",
    "        ax.plot((dataset - means)/devs + offset*arange(electrodes-1,-1,-1), linewidth=1);\n",
    "    \n",
    "    ax.plot(zeros((samples, electrodes)) + offset*arange(electrodes-1,-1,-1),'--',color='gray');\n",
    "    ax.set(ylabel='Voltage')\n",
    "\n",
    "    yticks([]);\n",
    "    \n",
    "    axis('tight');\n",
    "\n",
    "    return fig, ax\n"
   ]
  },
  {
   "cell_type": "markdown",
   "metadata": {},
   "source": [
    "## Pick Patient, Seizure, Type, and read EEG\n"
   ]
  },
  {
   "cell_type": "code",
   "execution_count": 4,
   "metadata": {},
   "outputs": [
    {
     "name": "stdout",
     "output_type": "stream",
     "text": [
      "\n",
      "../Data/Pat1_Sz01_Background_1_100Hz.csv\n",
      "\n"
     ]
    }
   ],
   "source": [
    "# read prefiltered 60 sec segment\n",
    "\n",
    "folder      = '../Data/'\n",
    "patient     = '1'         # '1'\n",
    "seizure     = '01'        # '01' or '02' or '03'\n",
    "series_type = 'Background'     # 'Background' or 'Onset' \n",
    "\n",
    "sr_chars = folder + 'sampling_rate.txt'\n",
    "\n",
    "df1 = read_csv(sr_chars, header=None)\n",
    "\n",
    "sr = df1.iloc[0, 0]\n",
    "\n",
    "series_chars = folder + 'Pat' + patient + '_Sz' + seizure + '_' + series_type + '_1_100Hz.csv'\n",
    "\n",
    "df2 = read_csv(series_chars)\n",
    "df2.head()\n",
    "\n",
    "data_np = df2.to_numpy()\n",
    "data_prefiltered = data_np[:, 1:]\n",
    "\n",
    "all_labels = df2.columns[1:]\n",
    "\n",
    "print('')\n",
    "print(series_chars)\n",
    "print('')"
   ]
  },
  {
   "cell_type": "code",
   "execution_count": 1,
   "metadata": {},
   "outputs": [],
   "source": [
    "letter_list = list()\n",
    "\n",
    "for new in all_labels:\n",
    "    \n",
    "    if new[0] not in letter_list:\n",
    "        \n",
    "        letter_list.append(new[0])\n",
    "\n",
    "\n",
    "label_dict = dict()\n",
    "\n",
    "for ind, letter in enumerate(all_labels):\n",
    "    \n",
    "    if letter[0] in label_dict.keys():\n",
    "            pass\n",
    "\n",
    "    else:\n",
    "        label_dict[letter[0]] = [ind]   \n",
    "        \n",
    "        dict_ind = len(label_dict.keys())\n",
    "        \n",
    "        if letter[0] != all_labels[0][0]:\n",
    "            previous_letter = letter_list[dict_ind - 2]\n",
    "            label_dict[previous_letter].append(ind)\n",
    "            \n",
    "    if ind == len(all_labels)-1:  \n",
    "        label_dict[letter[0]].append(ind+1)\n",
    "\n",
    "label_letters = list(label_dict.keys())\n",
    "\n",
    "label_dict\n"
   ]
  },
  {
   "cell_type": "markdown",
   "metadata": {},
   "source": [
    "## Settings and Filtering\n"
   ]
  },
  {
   "cell_type": "code",
   "execution_count": 2,
   "metadata": {},
   "outputs": [],
   "source": [
    "data_prefiltered.shape"
   ]
  },
  {
   "cell_type": "code",
   "execution_count": 3,
   "metadata": {},
   "outputs": [],
   "source": [
    "rows_max = data_prefiltered.shape[0]\n",
    "\n",
    "time_max = rows_max // sr\n",
    "\n",
    "channel_start, channel_stop = 0, data_prefiltered.shape[1]\n",
    "\n",
    "number_channels = channel_stop - channel_start\n",
    "\n",
    "band_low  = 1 # >= 1\n",
    "band_high = 20\n",
    "\n",
    "order = 5\n",
    "\n",
    "sos = butter(order, (band_low, band_high), btype='bandpass', fs=sr, output='sos')\n",
    "\n",
    "data_filtered = zeros((rows_max, number_channels))\n",
    "\n",
    "for index, column in enumerate(data_prefiltered.transpose()): \n",
    "    forward = sosfilt(sos, column)\n",
    "    backwards = sosfilt(sos, forward[-1::-1])\n",
    "    data_filtered[:, index] = backwards[-1::-1]\n",
    "\n",
    "data_filtered.shape\n"
   ]
  },
  {
   "cell_type": "markdown",
   "metadata": {},
   "source": [
    "# Complete EEG\n"
   ]
  },
  {
   "cell_type": "code",
   "execution_count": 4,
   "metadata": {},
   "outputs": [],
   "source": [
    "fig, ax = eeg_plot(data_filtered, 5)\n",
    "\n",
    "ax.set_xticks(linspace(0, rows_max, 3))\n",
    "labl = linspace(0, time_max, 3)\n",
    "ax.set_xticklabels(labl, fontsize=16)\n",
    "ax.set_xlabel('Time (seconds)', fontsize=20)\n",
    "ax.set_ylabel('Voltage', fontsize=20);\n"
   ]
  },
  {
   "cell_type": "markdown",
   "metadata": {},
   "source": [
    "# A Single Electrode\n"
   ]
  },
  {
   "cell_type": "code",
   "execution_count": 5,
   "metadata": {},
   "outputs": [],
   "source": [
    "elec_name = 'O'\n",
    "\n",
    "all_labels_np = asarray(all_labels)\n",
    "\n",
    "elec_label_names = all_labels_np[label_dict[elec_name][0]:label_dict[elec_name][1]]\n",
    "\n",
    "data_chan      = data_filtered[:, label_dict[elec_name][0]:label_dict[elec_name][1]]\n",
    "\n",
    "chans = data_chan.shape[1]\n",
    "\n",
    "factor = 5\n",
    "\n",
    "fig, ax = eeg_plot(data_chan, factor, normalise=True)\n",
    "ax.set_yticks(factor*arange(chans))\n",
    "ax.set_yticklabels(elec_label_names)\n",
    "\n",
    "ax.set_xticks(linspace(0, rows_max, 3))\n",
    "labl = linspace(0, time_max, 3)\n",
    "ax.set_xticklabels(labl, fontsize=16)\n",
    "ax.set_xlabel('Time (seconds)', fontsize=20)\n",
    "\n",
    "# these are matplotlib.patch.Patch properties\n",
    "props = dict(boxstyle='round', facecolor='wheat', alpha=0.5)\n",
    "\n",
    "# place a text box in upper left in axes coords\n",
    "textstr = 'Electrode ' + elec_name\n",
    "ax.text(0.80, 0.98, textstr, transform=ax.transAxes, fontsize=12,\n",
    "    verticalalignment='top', bbox=props);\n",
    "\n",
    "show()\n"
   ]
  },
  {
   "cell_type": "markdown",
   "metadata": {},
   "source": [
    "## Pick a Segment and Normalise"
   ]
  },
  {
   "cell_type": "code",
   "execution_count": 50,
   "metadata": {},
   "outputs": [],
   "source": [
    "seg_start = 20000\n",
    "seg_stop  = 40000\n",
    "\n",
    "rows_seg = seg_stop - seg_start\n",
    "\n",
    "data_chan_seg      = data_chan[seg_start:seg_stop, :]\n",
    "\n",
    "means              = data_chan_seg.mean(axis=0)\n",
    "devs               = data_chan_seg.std(axis=0)\n",
    "data_chan_seg_norm = (data_chan_seg - means)/devs\n"
   ]
  },
  {
   "cell_type": "markdown",
   "metadata": {},
   "source": [
    "## Time Series & Heatmap"
   ]
  },
  {
   "cell_type": "code",
   "execution_count": 6,
   "metadata": {},
   "outputs": [],
   "source": [
    "offset = 5\n",
    "\n",
    "################################### Time Series\n",
    "fig, (ax1, ax2) = subplots(nrows=2, figsize=(6,4))\n",
    "\n",
    "### Voltage Series\n",
    "ax1.plot(data_chan_seg_norm + offset*arange(chans-1,-1,-1), linewidth=1, color='b');\n",
    "ax1.plot(zeros((rows_seg, chans)) + offset*arange(chans-1,-1,-1),'--',color='gray');\n",
    "ax1.set_yticks(offset*arange(chans))\n",
    "ax1.set_yticklabels(elec_label_names)\n",
    "ax1.margins(x=0)\n",
    "ax1.set_xticks(linspace(0, rows_seg, 5))\n",
    "labl =        linspace((seg_start)//sr, (seg_stop)//sr, 5)\n",
    "ax1.set_xticklabels([], fontsize=12)\n",
    "\n",
    "### Voltage Heatmap\n",
    "ax2.imshow(data_chan_seg_norm.T, aspect='auto', cmap='bwr', vmin=-3, vmax=3);\n",
    "ax2.set_yticks(arange(chans))\n",
    "ax2.set_yticklabels(flip(elec_label_names));\n",
    "\n",
    "ax2.set_xticks(linspace(0, rows_seg, 5))\n",
    "labl =        linspace((seg_start)//sr, (seg_stop)//sr, 5)\n",
    "ax2.set_xticklabels(labl, fontsize=12)\n",
    "ax2.set_xlabel('Time (sec)')\n",
    "\n",
    "fig.tight_layout()\n",
    "\n",
    "title_chars = 'figs/Sz' + seizure + '_' + elec_name + '_timeseries_' + 'L' + str(band_low) + '_H' + str(band_high) + '.png'\n",
    "# fig.savefig(title_chars, format='png')\n",
    "print(title_chars)\n",
    "\n",
    "show()\n"
   ]
  },
  {
   "cell_type": "markdown",
   "metadata": {},
   "source": [
    "## Boxplots of Each Channel"
   ]
  },
  {
   "cell_type": "code",
   "execution_count": 7,
   "metadata": {},
   "outputs": [],
   "source": [
    "fig, ax = subplots(figsize=(6,3))\n",
    "\n",
    "ax.boxplot(data_chan_seg);\n",
    "ax.set_xlabel('Voltages: Whole segment')\n",
    "ax.set_xticklabels(arange(chans));\n",
    "\n",
    "show()\n"
   ]
  },
  {
   "cell_type": "markdown",
   "metadata": {},
   "source": [
    "## Histograms"
   ]
  },
  {
   "cell_type": "code",
   "execution_count": 8,
   "metadata": {},
   "outputs": [],
   "source": [
    "fig, ax = subplots(nrows=chans, figsize=(6,10))\n",
    "\n",
    "bins = 50\n",
    "\n",
    "for index in arange(chans):\n",
    "    \n",
    "    ax[index].hist(data_chan_seg[:,index], bins=bins);\n",
    "    ax[index].set_xlim(-200, 200)\n",
    "    \n",
    "ax[-1].set_xlabel('Voltages: Whole segment')\n",
    "ax[-1].set_ylabel('Counts');\n",
    "\n",
    "fig.tight_layout()\n",
    "\n",
    "show()\n"
   ]
  },
  {
   "cell_type": "markdown",
   "metadata": {},
   "source": [
    "## The Fourier Spectrum"
   ]
  },
  {
   "cell_type": "code",
   "execution_count": 9,
   "metadata": {
    "tags": []
   },
   "outputs": [],
   "source": [
    "chan1, chan2 = 0, 6\n",
    "\n",
    "xlim = 20\n",
    "ylim = 5\n",
    "\n",
    "# frequencies\n",
    "freqs = rfftfreq(rows_max, 1 / sr)\n",
    "\n",
    "# amplitude\n",
    "amplitudes = (2.0 / rows_max)*abs(rfft(data_filtered, axis=0))\n",
    "\n",
    "\n",
    "fig, ax = subplots(nrows=2, figsize=(6, 4))\n",
    "\n",
    "ax[0].plot(freqs, amplitudes[:, chan1], color='b');\n",
    "ax[0].set_xlim(0, xlim);\n",
    "ax[0].set_ylim(0, ylim);\n",
    "ax[0].set_xlabel('Frequency (Hz)');\n",
    "\n",
    "ax[1].plot(freqs, amplitudes[:, chan2], color='b');\n",
    "ax[1].set_xlim(0, xlim);\n",
    "ax[1].set_ylim(0, ylim);\n",
    "ax[1].set_xlabel('Frequency (Hz)');\n",
    "\n",
    "# these are matplotlib.patch.Patch properties\n",
    "props = dict(boxstyle='round', facecolor='wheat', alpha=0.8)\n",
    "\n",
    "# place a text box in upper left in axes coords\n",
    "textstr = 'channel ' + str(chan1)\n",
    "\n",
    "ax[0].text(0.83, 0.89, textstr, transform=ax[0].transAxes, fontsize=12,\n",
    "    verticalalignment='top', bbox=props)\n",
    "\n",
    "textstr = 'channel ' + str(chan2)\n",
    "\n",
    "ax[1].text(0.83, 0.89, textstr, transform=ax[1].transAxes, fontsize=12,\n",
    "    verticalalignment='top', bbox=props)\n",
    "\n",
    "fig.tight_layout()\n",
    "\n",
    "show()\n"
   ]
  },
  {
   "cell_type": "code",
   "execution_count": null,
   "metadata": {},
   "outputs": [],
   "source": []
  },
  {
   "cell_type": "markdown",
   "metadata": {},
   "source": [
    "## Boxplots & Histograms of Half Segments"
   ]
  },
  {
   "cell_type": "code",
   "execution_count": 10,
   "metadata": {
    "tags": []
   },
   "outputs": [],
   "source": [
    "fig, ax = subplots(ncols=2, figsize=(8,3))\n",
    "\n",
    "ax[0].boxplot(data_chan_seg[:rows_seg//2,:]);\n",
    "ax[0].set_xticklabels(arange(chans))\n",
    "\n",
    "ax[0].set_xlabel('Voltages: First half')\n",
    "\n",
    "ax[1].boxplot(data_chan_seg[rows_seg//2:,:]);\n",
    "ax[1].set_xticklabels(arange(chans))\n",
    "\n",
    "ax[1].set_xlabel('Voltages: Second half');\n",
    "\n",
    "show()\n"
   ]
  },
  {
   "cell_type": "code",
   "execution_count": 11,
   "metadata": {
    "tags": []
   },
   "outputs": [],
   "source": [
    "fig, ax = subplots(nrows=chans, ncols=2, figsize=(6,10))\n",
    "\n",
    "limit = 200\n",
    "\n",
    "for index in arange(chans):\n",
    "    \n",
    "    ax[index, 0].hist(data_chan_seg[:rows_seg//2,index], bins=bins, color='cornflowerblue');\n",
    "    ax[index, 0].set_ylabel('Counts');\n",
    "    ax[index, 1].hist(data_chan_seg[rows_seg//2:,index], bins=bins, color='skyblue');\n",
    "    ax[index, 0].set_xlim(-limit, limit)\n",
    "    ax[index, 1].set_xlim(-limit, limit)\n",
    "\n",
    "ax[-1, 0].set_xlabel('Voltages: First half')\n",
    "ax[-1, 1].set_xlabel('Voltages: Second half')\n",
    "\n",
    "fig.tight_layout()\n",
    "\n",
    "show()\n"
   ]
  },
  {
   "cell_type": "markdown",
   "metadata": {},
   "source": [
    "## Fourier spectra of half segments"
   ]
  },
  {
   "cell_type": "code",
   "execution_count": 12,
   "metadata": {
    "tags": []
   },
   "outputs": [],
   "source": [
    "chan = 8\n",
    "\n",
    "xlim = 20\n",
    "ylim = 4\n",
    "\n",
    "# frequencies\n",
    "freqs = rfftfreq(rows_seg//2, 1 / sr)\n",
    "\n",
    "# amplitude\n",
    "amplitudes_1 = (2.0 / rows_max)*abs(rfft(data_chan_seg[:rows_seg//2, :], axis=0))\n",
    "amplitudes_2 = (2.0 / rows_max)*abs(rfft(data_chan_seg[rows_seg//2:, :], axis=0))\n",
    "\n",
    "\n",
    "fig, ax = subplots(nrows=2, figsize=(6, 4))\n",
    "\n",
    "ax[0].plot(freqs, amplitudes_1[:, chan], color='cornflowerblue');\n",
    "ax[0].set_xlim(0, xlim);\n",
    "ax[0].set_ylim(0, ylim);\n",
    "ax[0].set_xlabel('Frequency (Hz)');\n",
    "\n",
    "ax[1].plot(freqs, amplitudes_2[:, chan], color='skyblue');\n",
    "ax[1].set_xlim(0, xlim);\n",
    "ax[1].set_ylim(0, ylim);\n",
    "ax[1].set_xlabel('Frequency (Hz)');\n",
    "\n",
    "# these are matplotlib.patch.Patch properties\n",
    "props = dict(boxstyle='round', facecolor='wheat', alpha=0.8)\n",
    "\n",
    "# place a text box in upper left in axes coords\n",
    "textstr = 'channel ' + str(chan) + ', 1st half'\n",
    "\n",
    "ax[0].text(0.67, 0.89, textstr, transform=ax[0].transAxes, fontsize=12,\n",
    "    verticalalignment='top', bbox=props)\n",
    "\n",
    "textstr = 'channel ' + str(chan) + ', 2nd half'\n",
    "\n",
    "ax[1].text(0.67, 0.89, textstr, transform=ax[1].transAxes, fontsize=12,\n",
    "    verticalalignment='top', bbox=props)\n",
    "\n",
    "fig.tight_layout()\n",
    "\n",
    "show()\n"
   ]
  },
  {
   "cell_type": "code",
   "execution_count": 13,
   "metadata": {},
   "outputs": [],
   "source": [
    "fig, ax = subplots(nrows=chans, ncols=2, figsize=(6,10))\n",
    "\n",
    "for index in arange(chans):\n",
    "    \n",
    "    ax[index, 0].plot(freqs, amplitudes_1[:, index], color='cornflowerblue');\n",
    "    ax[index, 0].set_ylabel('Counts');\n",
    "    ax[index, 1].plot(freqs, amplitudes_2[:, chan], color='skyblue');\n",
    "    ax[index, 0].set_xlim(0, xlim)\n",
    "    ax[index, 1].set_xlim(0, xlim)\n",
    "\n",
    "    if index == 0:\n",
    "\n",
    "        ax[index, 0].set_title('First Half')\n",
    "        ax[index, 1].set_title('Second Half')\n",
    "\n",
    "ax[-1, 0].set_xlabel('Frequency')\n",
    "ax[-1, 1].set_xlabel('Frequency')\n",
    "\n",
    "fig.tight_layout()\n",
    "\n",
    "show()\n"
   ]
  },
  {
   "cell_type": "markdown",
   "metadata": {},
   "source": [
    "All of sEEG is irregular. Changes do not seem to be specific. No particular frequency components are found. Often slow components have higher power than fast components.\n"
   ]
  },
  {
   "cell_type": "markdown",
   "metadata": {},
   "source": [
    "# Try It Yourself\n",
    "\n",
    "> Display data from different electrodes and in different segments. Describe what you see.\n",
    "\n",
    "> In a clone of the notebook, import data from another segment of EEG from the same patient, e.g. by setting: seizure = '02'. Run the analysis and compare the outputs for the two data sets. Do the boxplots looks similar? Is the frequency content of channels with the same name similar?\n",
    "\n"
   ]
  }
 ],
 "metadata": {
  "kernelspec": {
   "display_name": "Python 3 (ipykernel)",
   "language": "python",
   "name": "python3"
  },
  "language_info": {
   "codemirror_mode": {
    "name": "ipython",
    "version": 3
   },
   "file_extension": ".py",
   "mimetype": "text/x-python",
   "name": "python",
   "nbconvert_exporter": "python",
   "pygments_lexer": "ipython3",
   "version": "3.11.6"
  },
  "toc-autonumbering": false
 },
 "nbformat": 4,
 "nbformat_minor": 4
}
