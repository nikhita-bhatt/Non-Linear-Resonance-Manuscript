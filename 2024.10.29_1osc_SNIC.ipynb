{
 "cells": [
  {
   "cell_type": "markdown",
   "metadata": {},
   "source": [
    "(C) Gerold Baier, University College London, 2024"
   ]
  },
  {
   "cell_type": "markdown",
   "metadata": {},
   "source": [
    "# Single Oscillator\n"
   ]
  },
  {
   "cell_type": "markdown",
   "metadata": {
    "tags": []
   },
   "source": [
    "## The two-variable neural population oscillator\n",
    "\n",
    "The two populations' temporal dynamics (change of state) is described by two first-order nonlinear differential equations:\n",
    "\n",
    "$$ \\frac{dEx}{dt} = h_{ex} - Ex + c_1*sigmoid(Ex) - c_2*sigmoid(In) + pert$$\n",
    "$$ \\frac{dIn}{dt} \\,\\, = h_{in} \\,\\, - In \\, + c_3*sigmoid(Ex) - c_4*sigmoid(In)) $$\n",
    "\n",
    "$Ex$ and $In$ are variables that change over time $t$ and represent the excitatory and inhibitory neural population, respectively.\n",
    "\n",
    "$h_{ex}$, $h_{in}$, $c_1$, $c_2$, $c_3$ and $c_4$ are model parameters representing constant input ($h_i$) and strength of (self-)coupling ($c_j$), respectively. \n",
    "\n",
    "Function _sigmoid_ is the continuous step function, conmputationally implemented as tangens hyperbolicus.\n",
    "\n",
    "_pert_ represents an additive external perturbation and is implemented as either a single rectangular step or a periodic series of rectangular steps. \n",
    "\n",
    "\n",
    "- Time series\n",
    "- Bifurcation diagram as a function of parameter h_ex\n",
    "- Simulated seizure onset with ramp inparameter h_ex\n",
    "- Scan of initial conditions in the excitable (preseizure) state\n",
    "- Scan of parameters of single pulse perturbation\n",
    "- Scan of frequency of periodic pulse perturbation\n"
   ]
  },
  {
   "cell_type": "markdown",
   "metadata": {},
   "source": [
    "## Import Functions"
   ]
  },
  {
   "cell_type": "code",
   "execution_count": 1,
   "metadata": {},
   "outputs": [],
   "source": [
    "from scipy.integrate import odeint\n",
    "\n",
    "from scipy.signal import find_peaks\n",
    "\n",
    "from numpy import zeros, ones, tanh, mod, linspace\n",
    "from numpy import fill_diagonal, ndarray, amax, amin\n",
    "from numpy import asarray, array, around, arange, corrcoef, flip, var, append\n",
    "from numpy.random import default_rng\n",
    "\n",
    "from matplotlib.pyplot import subplots\n",
    "\n",
    "import sk_dsp_comm.sigsys as ss\n",
    "\n",
    "from itertools import product\n"
   ]
  },
  {
   "cell_type": "markdown",
   "metadata": {},
   "source": [
    "## Model and Functions"
   ]
  },
  {
   "cell_type": "code",
   "execution_count": 2,
   "metadata": {},
   "outputs": [],
   "source": [
    "def sigmoid(u):\n",
    "    return tanh(u)\n",
    "\n",
    "def single_oscillator(y, t, h_ex, h_in, pars):\n",
    "\n",
    "    tau_ex, tau_in, c1, c2, c3, c4 = pars\n",
    "\n",
    "    dydt = (\n",
    "        (h_ex - y[0] + c1*sigmoid(y[0]) - c2*sigmoid(y[1]))*tau_ex,\n",
    "        (h_in - y[1] + c3*sigmoid(y[0]) - c4*sigmoid(y[1]))*tau_in,\n",
    "       )\n",
    "\n",
    "    return dydt\n",
    "\n",
    "def single_oscillator_plus_driving(y, t, h_ex, h_in, pars, sr, time_stop, driving, driving_strength):\n",
    "\n",
    "    tau_ex, tau_in, c1, c2, c3, c4 = pars\n",
    "    \n",
    "    index = int(t*sr)\n",
    "    \n",
    "    if index >= time_stop*sr:\n",
    "    \n",
    "        dydt = zeros(2)\n",
    "        \n",
    "        return dydt\n",
    "    \n",
    "    h_ex_driven = h_ex + driving_strength*driving[index]\n",
    "\n",
    "    dydt = (\n",
    "        (h_ex_driven - y[0] + c1*sigmoid(y[0]) - c2*sigmoid(y[1]))*tau_ex,\n",
    "        (h_in        - y[1] + c3*sigmoid(y[0]) - c4*sigmoid(y[1]))*tau_in,\n",
    "   )\n",
    "\n",
    "    return dydt\n",
    "\n",
    "def single_oscillator_pert(y, t, h_ex_p, h_in, pars, sr, time_stop):\n",
    "\n",
    "    tau_ex, tau_in, c1, c2, c3, c4 = pars\n",
    "\n",
    "    h_ex_index = int(t*sr)\n",
    "    \n",
    "    if h_ex_index >= time_stop*sr:\n",
    "\n",
    "        dydt = zeros(2)\n",
    "        \n",
    "        return dydt\n",
    "    \n",
    "    dydt = (\n",
    "        (h_ex_p[h_ex_index] - y[0] + c1*sigmoid(y[0]) - c2*sigmoid(y[1]))*tau_ex,\n",
    "        (h_in               - y[1] + c3*sigmoid(y[0]) - c4*sigmoid(y[1]))*tau_in,\n",
    "       )\n",
    "\n",
    "    return dydt\n"
   ]
  },
  {
   "cell_type": "code",
   "execution_count": 3,
   "metadata": {},
   "outputs": [],
   "source": [
    "def plot_series(time, data, time_begin, time_end, sr):\n",
    "\n",
    "    fig, ax = subplots(figsize=(4, 3))\n",
    "\n",
    "    ax.plot(time[time_begin*sr:time_end*sr], data[time_begin*sr:time_end*sr, 0], linewidth=2, c='b')\n",
    "    ax.set_xticks(linspace(0, time_end-time_begin, 5));\n",
    "    ax.set_xticklabels(linspace(0, time_end-time_begin, 5));\n",
    "    ax.set_xlabel('Time', fontsize=12);\n",
    "    ax.set_ylabel('Ex', fontsize=12)\n",
    "    y_min, y_max = ax.get_ylim()\n",
    "    ax.set_yticks(linspace(y_min, y_max, 3));\n",
    "    ax.set_yticklabels(around(linspace(y_min, y_max, 3),1), fontsize=14);\n",
    "\n",
    "    fig.tight_layout()\n",
    "    \n",
    "    return fig, ax\n"
   ]
  },
  {
   "cell_type": "code",
   "execution_count": 4,
   "metadata": {},
   "outputs": [],
   "source": [
    "def plot_bifdiagram(results_min_f, results_max_f, \n",
    "                    results_min_b, results_max_b,\n",
    "                    par_set):\n",
    "    \n",
    "    N = len(results_min_f)\n",
    "\n",
    "    fig, ax = subplots(figsize=(4, 2.5))\n",
    "\n",
    "    for xe, ye in zip(par_set, results_max_f[0]):\n",
    "\n",
    "        if not isinstance(ye, ndarray):\n",
    "            ax.scatter(xe, ye, c='k', s=20, marker='+')\n",
    "        else:\n",
    "            ax.scatter([xe] * len(ye), ye, c='b', s=20, marker='o')\n",
    "\n",
    "    for xe, ye in zip(par_set, results_min_f[0]):\n",
    "\n",
    "        if not isinstance(ye, ndarray):\n",
    "            ax.scatter(xe, ye, c='k', s=20, marker='+')\n",
    "        else:\n",
    "            ax.scatter([xe] * len(ye), ye, c='b', s=20, marker='o')\n",
    "\n",
    "    for xe, ye in zip(flip(par_set), results_max_b[0]):\n",
    "\n",
    "        if not isinstance(ye, ndarray):\n",
    "            ax.scatter(xe, ye, c='k', s=20, marker='+')\n",
    "        else:\n",
    "            ax.scatter([xe] * len(ye), ye, c='b', s=20, marker='o')\n",
    "\n",
    "    for xe, ye in zip(flip(par_set), results_min_b[0]):\n",
    "\n",
    "        if not isinstance(ye, ndarray):\n",
    "            ax.scatter(xe, ye, c='k', s=20, marker='+')\n",
    "        else:\n",
    "            ax.scatter([xe] * len(ye), ye, c='b', s=20, marker='o')\n",
    "\n",
    "    ax.set_xticks(linspace(par_min, par_max, 3));\n",
    "    ax.set_xticklabels(around(linspace(par_min, par_max, 3), 2), fontsize=16);\n",
    "    ax.set_xlabel('Parameter', fontsize=16)\n",
    "\n",
    "    ax.set_ylabel('Ex', fontsize=14)\n",
    "\n",
    "    y_min, y_max = ax.get_ylim()\n",
    "\n",
    "    ax.set_yticks(linspace(y_min, y_max, 3));\n",
    "    ax.set_yticklabels(around(linspace(y_min, y_max, 3),2), fontsize=14);\n",
    "\n",
    "\n",
    "    fig.tight_layout()\n",
    "    \n",
    "    return fig, ax\n",
    "\n",
    "def plot_bifdiagram_freq(results, freq_set):\n",
    "\n",
    "    no_scans = len(results)\n",
    "\n",
    "    if freq_set[-1] < freq_set[0]:\n",
    "        \n",
    "        freq_set = flip(freq_set)\n",
    "\n",
    "    freq_min, freq_max = freq_set[0], freq_set[-1]\n",
    "\n",
    "    fig, ax  = subplots(nrows=no_scans, figsize=(5, 4))\n",
    "\n",
    "    for index, result in enumerate(results):\n",
    "    \n",
    "        results_min_f, results_max_f = result[0], result[1] \n",
    "     \n",
    "        for xe, ye in zip(freq_set, results_max_f[0]):\n",
    "    \n",
    "            if not isinstance(ye, ndarray):\n",
    "                ax[index].scatter(xe, ye, c='r', s=5)\n",
    "            else:\n",
    "                ax[index].scatter([xe] * len(ye), ye, c='b', s=10, marker='o')\n",
    "      \n",
    "        ax[index].set_xticks(linspace(freq_min, freq_max, 5));\n",
    "        ax[index].set_xticklabels([]);\n",
    "    \n",
    "        ax[index].set_ylabel('Ex', fontsize=12)\n",
    "    \n",
    "        # y_min, y_max = ax[result].get_ylim()\n",
    "        y_min, y_max = -4, 4\n",
    "\n",
    "        ax[index].set_ylim(y_min, y_max)\n",
    "        ax[index].set_yticks(linspace(y_min, y_max, 3))\n",
    "        ax[index].set_yticklabels(linspace(y_min, y_max, 3))\n",
    "\n",
    "    ax[index].set_xticks(linspace(freq_min, freq_max, 3));\n",
    "    ax[index].set_xticklabels(around(linspace(freq_min, freq_max, 3), 2), fontsize=16);\n",
    "    \n",
    "    ax[index].set_xlabel('Parameter', fontsize=12)\n",
    "\n",
    "    fig.tight_layout()\n",
    "    \n",
    "    return fig, ax"
   ]
  },
  {
   "cell_type": "markdown",
   "metadata": {},
   "source": [
    "## Model Parameters"
   ]
  },
  {
   "cell_type": "code",
   "execution_count": 83,
   "metadata": {},
   "outputs": [],
   "source": [
    "# Model Parameters\n",
    "h_ex_0 = -1.86\n",
    "h_in_0 = -4\n",
    "\n",
    "# Homoclinic / SNIC parameters\n",
    "pars = (1, 1, 4, 4, 10, 0) # SNIC\n",
    "# pars = (1, 2, 4, 4, 10, 0) # Homoclinic / SN\n",
    "\n",
    "if pars[1] == 1:\n",
    "\n",
    "    condition = '_SNIC'\n",
    "\n",
    "elif pars[1] == 2:\n",
    "\n",
    "    condition = '_Homoclinic'\n",
    "\n",
    "\n",
    "# Time array\n",
    "time_stop = 50\n",
    "sr        = 1000\n",
    "time      = linspace(start=0, stop=time_stop, num=time_stop*sr)\n",
    "\n",
    "# Pick Initial conditions\n",
    "\n",
    "SEED = 12333\n",
    "\n",
    "rng = default_rng(SEED)\n",
    "\n",
    "y_ini = rng.normal(size=2)\n",
    "# y_ini = y[-1, :]\n"
   ]
  },
  {
   "cell_type": "markdown",
   "metadata": {},
   "source": [
    "## Time Series\n"
   ]
  },
  {
   "cell_type": "code",
   "execution_count": 12,
   "metadata": {},
   "outputs": [
    {
     "name": "stdout",
     "output_type": "stream",
     "text": [
      "End of run: [-1.41, -12.874]\n",
      "\n"
     ]
    }
   ],
   "source": [
    "# Simulation\n",
    "y = odeint(func=single_oscillator, y0=y_ini, t=time, \n",
    "          args=(h_ex_0, h_in_0, pars), \n",
    "          hmax=0.1)\n",
    "\n",
    "y_last = y[-1, :]\n",
    "\n",
    "# Show final values of all variables\n",
    "print('End of run:', list(around(y_last, 3)))\n",
    "print('')"
   ]
  },
  {
   "cell_type": "code",
   "execution_count": 13,
   "metadata": {},
   "outputs": [
    {
     "name": "stdout",
     "output_type": "stream",
     "text": [
      "Figs/N=1/Bifs_h_ex_SNIC.png\n"
     ]
    },
    {
     "data": {
      "image/png": "[encoded data removed]",
      "text/plain": [
       "<Figure size 400x300 with 1 Axes>"
      ]
     },
     "metadata": {},
     "output_type": "display_data"
    }
   ],
   "source": [
    "time_begin, time_end = 0, time_stop\n",
    "\n",
    "fig, ax = plot_series(time, y, time_begin, time_end, sr)\n",
    "    \n",
    "title_chars = 'Figs/N=1/Bifs_h_ex' + condition + '.png'\n",
    "    \n",
    "# fig.savefig(title_chars, format='png')\n",
    "\n",
    "print(title_chars)\n"
   ]
  },
  {
   "cell_type": "markdown",
   "metadata": {},
   "source": [
    "\"Resonance\" here does not search for the internal frequency of the fixed point (there isn't any) but pushes the trajectory in the direction of the 'ghost' and by continuously kicking makes sure the cycle is not left anymore. \n",
    "\n",
    "As such it is a _search in state space_ for any resonant structures. "
   ]
  },
  {
   "cell_type": "markdown",
   "metadata": {},
   "source": [
    "## Bifurcation Diagram"
   ]
  },
  {
   "cell_type": "code",
   "execution_count": 14,
   "metadata": {},
   "outputs": [
    {
     "name": "stdout",
     "output_type": "stream",
     "text": [
      "\n",
      "Scan complete! [-1.565, -13.162]\n",
      "\n"
     ]
    }
   ],
   "source": [
    "# Initial conditions\n",
    "y_ini = y[-1, :]\n",
    "\n",
    "# Bifurcation parameter range\n",
    "steps = 30\n",
    "par_min, par_max = -1.9, -1.7\n",
    "\n",
    "par_set = linspace(par_min, par_max, steps)\n",
    "\n",
    "# Stop time\n",
    "time_stop = 500\n",
    "time = linspace(start=0, stop=time_stop, num=time_stop*sr)\n",
    "\n",
    "\n",
    "results_max_f      = dict()\n",
    "results_max_inds_f = dict()\n",
    "results_min_f      = dict()\n",
    "results_min_inds_f = dict()\n",
    "\n",
    "rows = time.size\n",
    "\n",
    "# Simulation \"forward\"\n",
    "for par in par_set:\n",
    "    \n",
    "    h_ex = par\n",
    "    \n",
    "    y_f = odeint(func=single_oscillator, y0=y_ini, t=time, \n",
    "             args=(h_ex, h_in_0, pars), \n",
    "             hmax=0.1)\n",
    " \n",
    "\n",
    "    for num, series in enumerate(y_f[rows//2:,:-1:2].T):\n",
    "                \n",
    "        if var(series) < 0.0005:\n",
    "            \n",
    "            if num not in results_max_f:\n",
    "                \n",
    "                results_max_f[num]      = [series[-1]]\n",
    "                results_max_inds_f[num] = [0]    \n",
    "                results_min_f[num]      = [series[-1]]\n",
    "                results_min_inds_f[num] = [0]    \n",
    "                \n",
    "            else:\n",
    "                results_max_f[num].append(series[-1])\n",
    "                results_max_inds_f[num].append(0)    \n",
    "                results_min_f[num].append(series[-1])\n",
    "                results_min_inds_f[num].append(0)               \n",
    "\n",
    "\n",
    "        else:\n",
    "            y_f_max_inds = find_peaks(series, distance=100)\n",
    "            y_f_maxs     = series[y_f_max_inds[0]]\n",
    "\n",
    "            y_f_min_inds = find_peaks(-series, distance=100)\n",
    "            y_f_mins     = series[y_f_min_inds[0]]\n",
    "\n",
    "            if num not in results_max_f:\n",
    "\n",
    "                results_max_f[num]      = [y_f_maxs]\n",
    "                results_max_inds_f[num] = [y_f_max_inds]\n",
    "                results_min_f[num]      = [y_f_mins]    \n",
    "                results_min_inds_f[num] = [y_f_min_inds]    \n",
    "\n",
    "            else:\n",
    "\n",
    "                results_max_f[num].append(y_f_maxs)\n",
    "                results_max_inds_f[num].append(y_f_max_inds)\n",
    "                results_min_f[num].append(y_f_mins)\n",
    "                results_min_inds_f[num].append(y_f_min_inds)\n",
    "\n",
    "    if par != par_set[-1]:\n",
    "        \n",
    "        y_ini = y_f[-1, :]\n",
    "\n",
    "\n",
    "results_max_b      = dict()\n",
    "results_max_inds_b = dict()\n",
    "results_min_b      = dict()\n",
    "results_min_inds_b = dict()\n",
    "\n",
    "# Simulation \"backward\"\n",
    "for par in flip(par_set):\n",
    "    \n",
    "    h_ex = par\n",
    "\n",
    "    y_b = odeint(func=single_oscillator, y0=y_ini, t=time, \n",
    "             args=(h_ex, h_in_0, pars), \n",
    "             hmax=0.1)\n",
    "\n",
    "\n",
    "    for num, series in enumerate(y_b[rows//2:,:-1:2].T):\n",
    "        \n",
    "        if var(series) < 0.0005:\n",
    "            \n",
    "            if num not in results_max_b:\n",
    "                \n",
    "                results_max_b[num]      = [series[-1]]\n",
    "                results_max_inds_b[num] = [0]    \n",
    "                results_min_b[num]      = [series[-1]]\n",
    "                results_min_inds_b[num] = [0]    \n",
    "                \n",
    "            else:\n",
    "                results_max_b[num].append(series[-1])\n",
    "                results_max_inds_b[num].append(0)    \n",
    "                results_min_b[num].append(series[-1])\n",
    "                results_min_inds_b[num].append(0)               \n",
    "\n",
    "\n",
    "        else:\n",
    "            y_b_max_inds = find_peaks(series, distance=100)\n",
    "            y_b_maxs     = series[y_b_max_inds[0]]\n",
    "\n",
    "            y_b_min_inds = find_peaks(-series, distance=100)\n",
    "            y_b_mins     = series[y_b_min_inds[0]]\n",
    "\n",
    "            if num not in results_max_b:\n",
    "\n",
    "                results_max_b[num]      = [y_b_maxs]\n",
    "                results_max_inds_b[num] = [y_b_max_inds]\n",
    "                results_min_b[num]      = [y_b_mins]    \n",
    "                results_min_inds_b[num] = [y_b_min_inds]    \n",
    "\n",
    "            else:\n",
    "\n",
    "                results_max_b[num].append(y_b_maxs)\n",
    "                results_max_inds_b[num].append(y_b_max_inds)\n",
    "                results_min_b[num].append(y_b_mins)\n",
    "                results_min_inds_b[num].append(y_b_min_inds)\n",
    "\n",
    "    y_ini = y_b[-1, :]\n",
    "\n",
    "print('')\n",
    "print('Scan complete!', list(around(y_b[-1,:],3)))\n",
    "print('')\n"
   ]
  },
  {
   "cell_type": "code",
   "execution_count": 15,
   "metadata": {},
   "outputs": [
    {
     "data": {
      "text/plain": [
       "'Figs/N=1/Fig_2Ab_Bifs_h_ex_SNIC.png'"
      ]
     },
     "execution_count": 15,
     "metadata": {},
     "output_type": "execute_result"
    },
    {
     "data": {
      "image/png": "[encoded data removed]",
      "text/plain": [
       "<Figure size 400x250 with 1 Axes>"
      ]
     },
     "metadata": {},
     "output_type": "display_data"
    }
   ],
   "source": [
    "# Plot\n",
    "fig, ax = plot_bifdiagram(results_min_f, results_max_f, \n",
    "                          results_min_b, results_max_b, par_set)\n",
    "\n",
    "if par_max < par_min:\n",
    "    \n",
    "    direct = '_back.png'\n",
    "    \n",
    "else:\n",
    "    \n",
    "    direct = '_forw.png'\n",
    "\n",
    "ax.set_xlabel('h_ex, h_in=' + str(h_in_0) + ', tau_in=' + str(pars[1]), fontsize=12)\n",
    "\n",
    "# ax.vlines(-2.39, -2.8, 1.92, 'gray', linestyles='dashed', linewidth=0.8)\n",
    "ax.vlines(-1.855, -2.8, 3.92, 'gray', linestyles='dashed', linewidth=0.8)\n",
    "    \n",
    "title_chars = 'Figs/N=1/Fig_2Ab_Bifs_h_ex' + condition + '.png'\n",
    "    \n",
    "# fig.savefig(title_chars, dpi=300, format='png', bbox_inches='tight')\n",
    "\n",
    "title_chars\n"
   ]
  },
  {
   "cell_type": "markdown",
   "metadata": {},
   "source": [
    "Scan of parameter $h_{ex}$ showing bifurcations of two-variable model eq. (1). \n",
    "At $h_{ex} \\approx -2.45$, there is a homoclinic bifurcation of a limit cycle colliding with the stable manifold of a saddle point. \n",
    "At $h_{ex} \\approx -1.85$, there is a saddle node bifurcation where the stable node represented by black circles of the excitatory variable collides with a saddle point (not shown). The region between these two bifurcations is a region of bistability where two attracting solutions coexist. Black: stable fixed point. Blue unique stable limit cycle of which only minima and maxima of excitatory population are displayed. Magenta: limit cycle coexisting with stable steady state. \n",
    "\n",
    "Comment: Needs shading of oscillatory region and bifurcation annotations in the figure. \n"
   ]
  },
  {
   "cell_type": "code",
   "execution_count": null,
   "metadata": {},
   "outputs": [],
   "source": []
  },
  {
   "cell_type": "markdown",
   "metadata": {},
   "source": [
    "## Ramp to Seizure Onset"
   ]
  },
  {
   "cell_type": "code",
   "execution_count": 13,
   "metadata": {},
   "outputs": [
    {
     "name": "stdout",
     "output_type": "stream",
     "text": [
      "End of run: (70000, 2)\n",
      "\n"
     ]
    }
   ],
   "source": [
    "# Set Initial conditions:\n",
    "y_ini = y_last\n",
    "\n",
    "\n",
    "# Time array\n",
    "time_stop = 70\n",
    "sr        = 1000\n",
    "time      = linspace(start=0, stop=time_stop, num=time_stop*sr)\n",
    "\n",
    "\n",
    "# Driving\n",
    "driving = linspace(0, 1, time.size)\n",
    "\n",
    "driving_strength = 0.3\n",
    "\n",
    "y = odeint(func=single_oscillator_plus_driving, y0=y_ini, t=time, \n",
    "              args=(h_ex_0, h_in_0, pars, sr, time_stop, driving, driving_strength), hmax=0.1)\n",
    "\n",
    "print('End of run:', y.shape)\n",
    "print('')\n"
   ]
  },
  {
   "cell_type": "code",
   "execution_count": 14,
   "metadata": {},
   "outputs": [
    {
     "name": "stdout",
     "output_type": "stream",
     "text": [
      "Figs/N=1/Onset_h_ex_SNIC.png\n"
     ]
    },
    {
     "data": {
      "image/png": "[encoded data removed]",
      "text/plain": [
       "<Figure size 400x300 with 1 Axes>"
      ]
     },
     "metadata": {},
     "output_type": "display_data"
    }
   ],
   "source": [
    "time_begin, time_end = 0, time_stop\n",
    "\n",
    "fig, ax = plot_series(time, y, time_begin, time_end, sr)\n",
    "    \n",
    "title_chars = 'Figs/N=1/Onset_h_ex' + condition + '.png'\n",
    "\n",
    "# fig.savefig(title_chars, dpi=300, format='png', bbox_inches='tight')\n",
    "\n",
    "print(title_chars)"
   ]
  },
  {
   "cell_type": "markdown",
   "metadata": {},
   "source": [
    "Time series of the excitatory population in model eq. (1) while parameter $h_{ex}$ is slowly increased. The dynamics start as a fixed point fo values below $h_{ex} \\approx -1.85$. When the saddl-node bifurcation is crossed, large amplitude oscillations appear. A slow shift of an internal parameter can result in a sudden change the dynamics from stable to oscillatory. \n"
   ]
  },
  {
   "cell_type": "markdown",
   "metadata": {},
   "source": [
    "## Scan of Initial Conditions"
   ]
  },
  {
   "cell_type": "code",
   "execution_count": 16,
   "metadata": {},
   "outputs": [
    {
     "name": "stdout",
     "output_type": "stream",
     "text": [
      "Complete\n",
      "\n"
     ]
    },
    {
     "data": {
      "image/png": "[encoded data removed]",
      "text/plain": [
       "<Figure size 500x200 with 1 Axes>"
      ]
     },
     "metadata": {},
     "output_type": "display_data"
    }
   ],
   "source": [
    "from itertools import product\n",
    "\n",
    "# IC Scan Parameters\n",
    "resolution = 30\n",
    "\n",
    "y0_0_min, y0_0_max = -2,  2.5\n",
    "y1_0_min, y1_0_max =  3, -5\n",
    "\n",
    "y0_0 = linspace(y0_0_min, y0_0_max, resolution)\n",
    "y1_0 = linspace(y1_0_min, y1_0_max, resolution)\n",
    "\n",
    "results = list()\n",
    "\n",
    "for y_ini in product(y0_0, y1_0):\n",
    "\n",
    "# Simulation\n",
    "    y = odeint(func=single_oscillator, y0=y_ini, t=time, \n",
    "             args=(h_ex_0, h_in_0, pars), \n",
    "             hmax=0.1)\n",
    "    \n",
    "    results.append((sum(y[:, 0] - y_last[0])/sr, sum(y[:, 1] - y_last[1])/sr))\n",
    "\n",
    "results_y0_matrix = asarray(results)[:, 0].reshape(resolution, resolution)\n",
    "results_y1_matrix = asarray(results)[:, 1].reshape(resolution, resolution)\n",
    "\n",
    "print('Complete')\n",
    "print('')\n",
    "\n",
    "fig, ax = subplots(figsize=(5, 2))\n",
    "\n",
    "ax.hist(results_y0_matrix.ravel(), bins=20, color='b');"
   ]
  },
  {
   "cell_type": "markdown",
   "metadata": {},
   "source": [
    "This histogram is included to estimate values of vmin, vmax in the next figure. "
   ]
  },
  {
   "cell_type": "code",
   "execution_count": 17,
   "metadata": {},
   "outputs": [
    {
     "name": "stdout",
     "output_type": "stream",
     "text": [
      "Figs/N=1/Fig_2Bb_Basin_SNIC.png\n"
     ]
    },
    {
     "data": {
      "image/png": "[encoded data removed]",
      "text/plain": [
       "<Figure size 400x300 with 2 Axes>"
      ]
     },
     "metadata": {},
     "output_type": "display_data"
    }
   ],
   "source": [
    "fig, ax = subplots(figsize=(4, 3))\n",
    "\n",
    "vmin, vmax = 0, 18\n",
    "\n",
    "im1 = ax.imshow(results_y0_matrix.T, cmap='bwr', vmin=vmin, vmax=vmax)\n",
    "\n",
    "ax.set_xlabel('$Ex(t=0)$', fontsize=12)\n",
    "ax.set_ylabel('$In(t=0)$', fontsize=12)\n",
    "ax.set_xticks(linspace(0, resolution, 3))\n",
    "ax.set_xticklabels(linspace(y0_0_min, y0_0_max, 3))\n",
    "ax.set_yticks(linspace(0, resolution, 3))\n",
    "ax.set_yticklabels(linspace(y1_0_min, y1_0_max, 3))\n",
    "\n",
    "fig.colorbar(im1, ax=ax, shrink=0.5, ticks=linspace(vmin, vmax, 3));\n",
    "    \n",
    "title_chars = 'Figs/N=1/Fig_2Bb_Basin' + condition + '.png'\n",
    "    \n",
    "# fig.savefig(title_chars, dpi=300, format='png', bbox_inches='tight')\n",
    "\n",
    "print(title_chars)"
   ]
  },
  {
   "cell_type": "markdown",
   "metadata": {},
   "source": [
    "Scan of initial conditions in both variables of eq. (1) in the monostable state with $h_{ex} = -2.5$ to show the region where the transient return to the stable node is abnormally long. Due to the vicinity of the homoclinic bifurcation, the red area reflects the \"ghost\" of the nearby (in parameter space) limit cycle. "
   ]
  },
  {
   "cell_type": "markdown",
   "metadata": {},
   "source": [
    "## Pulse Perturbation Parameter 2D Scan"
   ]
  },
  {
   "cell_type": "code",
   "execution_count": 18,
   "metadata": {},
   "outputs": [
    {
     "data": {
      "text/plain": [
       "-1.86"
      ]
     },
     "execution_count": 18,
     "metadata": {},
     "output_type": "execute_result"
    }
   ],
   "source": [
    "y = odeint(func=single_oscillator, y0=y_ini, t=time, \n",
    "          args=(h_ex_0, h_in_0, pars), \n",
    "          hmax=0.1)\n",
    "\n",
    "y_last = y[-1, :]\n",
    "\n",
    "h_ex_0"
   ]
  },
  {
   "cell_type": "code",
   "execution_count": 20,
   "metadata": {},
   "outputs": [
    {
     "name": "stdout",
     "output_type": "stream",
     "text": [
      "COMPLETE\n",
      " \n"
     ]
    },
    {
     "data": {
      "image/png": "[encoded data removed]",
      "text/plain": [
       "<Figure size 500x200 with 1 Axes>"
      ]
     },
     "metadata": {},
     "output_type": "display_data"
    }
   ],
   "source": [
    "# Initial conditions y_last\n",
    "\n",
    "time_stop_pert = 50\n",
    "sr             = 1000\n",
    "time           = linspace(start=0, stop=time_stop_pert, num=time_stop_pert*sr)\n",
    "\n",
    "resolution = 30\n",
    "\n",
    "pulse_width_min, pulse_width_max = 0.001, 3\n",
    "pulse_ampli_min, pulse_ampli_max = 0.3, 0.0001\n",
    "\n",
    "pulse_width = linspace(pulse_width_min, pulse_width_max, resolution)\n",
    "pulse_ampli = linspace(pulse_ampli_min, pulse_ampli_max, resolution)\n",
    "\n",
    "pulse_period = time_stop_pert\n",
    "\n",
    "results_pert = list()\n",
    "\n",
    "for pulse in product(pulse_width, pulse_ampli):\n",
    "\n",
    "    h_ex_p = h_ex_0 + pulse[1]*ss.rect(mod(time, pulse_period)-pulse_period/2+pulse[0]/2, pulse[0])\n",
    "\n",
    "    y = odeint(func=single_oscillator_pert, y0=y_last, t=time, args=(h_ex_p, h_in_0, pars, sr, time_stop_pert),\n",
    "              hmax=0.1)\n",
    "\n",
    "    results_pert.append((sum(y[time_stop_pert*sr//2:, 0] - y_last[0])/sr, \n",
    "                         sum(y[time_stop_pert*sr//2:, 1] - y_last[1])/sr\n",
    "                     ))\n",
    "\n",
    "results_pert_y0_matrix = asarray(results_pert)[:, 0].reshape(resolution, resolution)\n",
    "results_pert_y1_matrix = asarray(results_pert)[:, 1].reshape(resolution, resolution)\n",
    "\n",
    "print('COMPLETE')\n",
    "print(' ')\n",
    "\n",
    "fig, ax = subplots(figsize=(5, 2))\n",
    "\n",
    "ax.hist(results_pert_y0_matrix.ravel(), bins=20, color='b');"
   ]
  },
  {
   "cell_type": "code",
   "execution_count": 25,
   "metadata": {},
   "outputs": [
    {
     "data": {
      "text/plain": [
       "'Figs/N=1/Fig_2Cb_PulsePert_scan_SNIC.png'"
      ]
     },
     "execution_count": 25,
     "metadata": {},
     "output_type": "execute_result"
    },
    {
     "data": {
      "image/png": "[encoded data removed]",
      "text/plain": [
       "<Figure size 400x300 with 2 Axes>"
      ]
     },
     "metadata": {},
     "output_type": "display_data"
    }
   ],
   "source": [
    "vmin, vmax = 0, 10\n",
    "\n",
    "fig, ax = subplots(figsize=(4, 3))\n",
    "\n",
    "im1 = ax.imshow(results_pert_y0_matrix.T, cmap='bwr', vmin=vmin, vmax=vmax)\n",
    "\n",
    "ax.set_xlabel('Pulse Width', fontsize=12)\n",
    "ax.set_ylabel('Pulse Amplitude', fontsize=12)\n",
    "ax.set_xticks(linspace(0, resolution, 3))\n",
    "ax.set_xticklabels(around(linspace(pulse_width_min, pulse_width_max, 3), 2))\n",
    "ax.set_yticks(linspace(0, resolution, 3))\n",
    "ax.set_yticklabels(around(linspace(pulse_ampli_min, pulse_ampli_max, 3), 2))\n",
    "\n",
    "fig.colorbar(im1, ax=ax, shrink=0.8);\n",
    "    \n",
    "title_chars = 'Figs/N=1/Fig_2Cb_PulsePert_scan' + condition + '.png'\n",
    "\n",
    "# fig.savefig(title_chars, dpi=300, format='png', bbox_inches='tight')\n",
    "\n",
    "title_chars"
   ]
  },
  {
   "cell_type": "markdown",
   "metadata": {},
   "source": [
    "Single pulse perturbation of model eq. (1) with a rectangular pulse. Shown are the integral of the return to the unique stable fixed point at $h_{ex} = -2.45$. Dark red indicates abnormal (oscillatory) transients due to the trajectory being pushed into the region of the ghost of a limit cycle (c.f. previous figure)."
   ]
  },
  {
   "cell_type": "code",
   "execution_count": 106,
   "metadata": {},
   "outputs": [
    {
     "data": {
      "text/plain": [
       "'Figs/N=1/Fig_2Db_PulsePert_series_SNIC.png'"
      ]
     },
     "execution_count": 106,
     "metadata": {},
     "output_type": "execute_result"
    },
    {
     "data": {
      "image/png": "[encoded data removed]",
      "text/plain": [
       "<Figure size 400x300 with 1 Axes>"
      ]
     },
     "metadata": {},
     "output_type": "display_data"
    }
   ],
   "source": [
    "time_stop_pert = 50\n",
    "sr             = 1000\n",
    "time           = linspace(start=0, stop=time_stop_pert, num=time_stop_pert*sr)\n",
    "\n",
    "pulse_width_series = 2\n",
    "pulse_ampli_series = 0.12\n",
    "\n",
    "pulse_period = time_stop_pert\n",
    "\n",
    "results_pert = list()\n",
    "\n",
    "h_ex_p = h_ex_0 + pulse_ampli_series*ss.rect(mod(time, pulse_period)-pulse_period/2+pulse_width_series/2, pulse_width_series)\n",
    "\n",
    "y_series = odeint(func=single_oscillator_pert, y0=y_last, t=time, args=(h_ex_p, h_in_0, pars, sr, time_stop_pert),\n",
    "              hmax=0.1)\n",
    "\n",
    "fig, ax = subplots(figsize=(4,3))\n",
    "\n",
    "ax.plot(y_series[:, 0], label='Response', c='b');\n",
    "ax.plot(h_ex_p, label='Pulse', color='gray');\n",
    "ax.legend()\n",
    "\n",
    "ax.set_xticks(linspace(0, time_stop_pert*sr, 3));\n",
    "ax.set_xticklabels(linspace(0, time_stop_pert, 3));\n",
    "\n",
    "title_chars = 'Figs/N=1/Fig_2Db_PulsePert_series' + condition + '.png'\n",
    "\n",
    "# fig.savefig(title_chars, dpi=300, format='png', bbox_inches='tight')\n",
    "\n",
    "title_chars"
   ]
  },
  {
   "cell_type": "code",
   "execution_count": 82,
   "metadata": {},
   "outputs": [
    {
     "data": {
      "text/plain": [
       "1"
      ]
     },
     "execution_count": 82,
     "metadata": {},
     "output_type": "execute_result"
    }
   ],
   "source": [
    "condition"
   ]
  },
  {
   "cell_type": "code",
   "execution_count": null,
   "metadata": {},
   "outputs": [],
   "source": []
  },
  {
   "cell_type": "markdown",
   "metadata": {},
   "source": [
    "## Periodic Perturbation Frequency Scan"
   ]
  },
  {
   "cell_type": "code",
   "execution_count": 39,
   "metadata": {},
   "outputs": [
    {
     "data": {
      "text/plain": [
       "[array([ -1.40984403, -12.87461007]), array([ -1.70326288, -13.3581572 ])]"
      ]
     },
     "execution_count": 39,
     "metadata": {},
     "output_type": "execute_result"
    }
   ],
   "source": [
    "h_ex_set = [-1.86, -1.96]\n",
    "\n",
    "y_in_sets = list()\n",
    "\n",
    "for h_ex in h_ex_set:\n",
    "\n",
    "    y = odeint(func=single_oscillator, y0=y_last, t=time, \n",
    "              args=(h_ex, h_in_0, pars), \n",
    "              hmax=0.1)\n",
    "    \n",
    "    y_in_sets.append(y[-1, :])\n",
    "\n",
    "y_in_sets"
   ]
  },
  {
   "cell_type": "code",
   "execution_count": 117,
   "metadata": {},
   "outputs": [
    {
     "name": "stdout",
     "output_type": "stream",
     "text": [
      "\n",
      "Scan complete!\n",
      "\n"
     ]
    }
   ],
   "source": [
    "# Bifurcation parameter set\n",
    "steps = 50\n",
    "\n",
    "freq_min, freq_max = 0.7, 1\n",
    "\n",
    "freq_set = linspace(freq_min, freq_max, steps)\n",
    "\n",
    "# Time array\n",
    "time_stop_freq = 100\n",
    "sr             = 1000\n",
    "time           = linspace(start=0, stop=time_stop_freq, num=time_stop_freq*sr)\n",
    "\n",
    "rows = time.size\n",
    "\n",
    "pulse_wid = 0.1\n",
    "pulse_amp = 0.1\n",
    "\n",
    "results = list()\n",
    "\n",
    "for step, h_ex in enumerate(h_ex_set):\n",
    "    \n",
    "    results_min_f      = dict()\n",
    "    results_min_inds_f = dict()\n",
    "    results_max_f      = dict()\n",
    "    results_max_inds_f = dict()\n",
    "    \n",
    "    # Simulation \"forward\"\n",
    "    for freq in freq_set:\n",
    "        \n",
    "        pulse = pulse_amp*ss.rect(mod(time, 1/freq)-(1/freq)/2-pulse_wid/2, pulse_wid)\n",
    "\n",
    "        h_ex_p = h_ex + pulse\n",
    "\n",
    "        y_pert = odeint(func=single_oscillator_pert, y0=y_in_sets[step], t=time, \n",
    "                        args=(h_ex_p, h_in_0, pars, sr, time_stop_freq), \n",
    "                        hmax=0.1)\n",
    "\n",
    "        for num, series in enumerate(y_pert[rows//2:,:-1:2].T):\n",
    "                    \n",
    "            if var(series) < 0.0001:\n",
    "        \n",
    "                if num not in results_min_f:\n",
    "                    \n",
    "                    results_min_f[num]      = [series[-1]]\n",
    "                    results_min_inds_f[num] = [0]    \n",
    "                   \n",
    "                else:\n",
    "                    results_min_f[num].append(series[-1])\n",
    "                    results_min_inds_f[num].append(0)    \n",
    "    \n",
    "                if num not in results_max_f:\n",
    "                    \n",
    "                    results_max_f[num]      = [series[-1]]\n",
    "                    results_max_inds_f[num] = [0]    \n",
    "                   \n",
    "                else:\n",
    "                    results_max_f[num].append(series[-1])\n",
    "                    results_max_inds_f[num].append(0)    \n",
    "    \n",
    "            else:\n",
    "                \n",
    "                y_f_max_inds = find_peaks(series, distance=100)\n",
    "                y_f_maxs     = series[y_f_max_inds[0]]\n",
    "    \n",
    "                y_f_min_inds = find_peaks(-series, distance=100)\n",
    "                y_f_mins     = series[y_f_min_inds[0]]\n",
    "    \n",
    "                if num not in results_min_f:\n",
    "    \n",
    "                    results_min_f[num]      = [y_f_mins]\n",
    "                    results_min_inds_f[num] = [y_f_min_inds]\n",
    "                    \n",
    "                    results_max_f[num]      = [y_f_maxs]\n",
    "                    results_max_inds_f[num] = [y_f_max_inds]\n",
    "    \n",
    "                else:\n",
    "    \n",
    "                    results_min_f[num].append(y_f_mins)\n",
    "                    results_min_inds_f[num].append(y_f_min_inds)\n",
    "                    \n",
    "                    results_max_f[num].append(y_f_maxs)\n",
    "                    results_max_inds_f[num].append(y_f_max_inds)\n",
    "\n",
    "    results.append((results_min_f, results_max_f))\n",
    "\n",
    "print('')\n",
    "print('Scan complete!')\n",
    "print('')\n"
   ]
  },
  {
   "cell_type": "code",
   "execution_count": 118,
   "metadata": {},
   "outputs": [
    {
     "data": {
      "text/plain": [
       "2"
      ]
     },
     "execution_count": 118,
     "metadata": {},
     "output_type": "execute_result"
    }
   ],
   "source": [
    "len(results)"
   ]
  },
  {
   "cell_type": "code",
   "execution_count": 122,
   "metadata": {},
   "outputs": [
    {
     "data": {
      "text/plain": [
       "'Figs/N=1/Fig_2Eb_FreqPert_scan_SNIC.png'"
      ]
     },
     "execution_count": 122,
     "metadata": {},
     "output_type": "execute_result"
    },
    {
     "data": {
      "image/png": "[encoded data removed]",
      "text/plain": [
       "<Figure size 500x400 with 2 Axes>"
      ]
     },
     "metadata": {},
     "output_type": "display_data"
    }
   ],
   "source": [
    "# Plot\n",
    "fig, ax = plot_bifdiagram_freq(results, freq_set)\n",
    "\n",
    "for value in arange(len(h_ex_set)):\n",
    "\n",
    "    ax[value].set_ylabel('h_ex= ' + str(h_ex_set[value]), fontsize=11)\n",
    "    \n",
    "ax[-1].set_xlabel('Frequency (Hz)', fontsize=12);\n",
    "\n",
    "title_chars = 'Figs/N=1/Fig_2Eb_FreqPert_scan' + condition + '.png'\n",
    "\n",
    "# fig.savefig(title_chars, dpi=300, format='png', bbox_inches='tight')\n",
    "\n",
    "title_chars"
   ]
  },
  {
   "cell_type": "markdown",
   "metadata": {},
   "source": [
    "Periodic pulse perturbation of model eq. (1) with a rectangular pulse train at $h_{ex} = -2.45$ (top) and $h_{ex} = -2.65$ (bottom). Simulation done for two vlaues of h_ex. Shown are only the maxima of the oscillatory solutions. Negative maxima (for small frequencies) indicate that the response is close to the stable node. Positive maxima (for large frequencies) indicate abnormal responses where the trajectory enters the region of the limit cycle \"ghost\"."
   ]
  },
  {
   "cell_type": "markdown",
   "metadata": {},
   "source": [
    "## Single frequency time series"
   ]
  },
  {
   "cell_type": "code",
   "execution_count": 124,
   "metadata": {},
   "outputs": [
    {
     "data": {
      "text/plain": [
       "'Figs/N=1/Fig_2Eb_FreqPert_series_SNIC.png'"
      ]
     },
     "execution_count": 124,
     "metadata": {},
     "output_type": "execute_result"
    },
    {
     "data": {
      "image/png": "[encoded data removed]",
      "text/plain": [
       "<Figure size 700x300 with 2 Axes>"
      ]
     },
     "metadata": {},
     "output_type": "display_data"
    }
   ],
   "source": [
    "freq_single = 0.85\n",
    "time_stop_freq = 200\n",
    "sr             = 1000\n",
    "time           = linspace(start=0, stop=time_stop_freq, num=time_stop_freq*sr)\n",
    "\n",
    "rows = time.size\n",
    "\n",
    "pulse = pulse_amp*ss.rect(mod(time, 1/freq_single)-(1/freq_single)/2-pulse_wid/2, pulse_wid)\n",
    "\n",
    "colours = ['deepskyblue', 'tomato']\n",
    "\n",
    "fig, ax = subplots(ncols=2, figsize=(7, 3))\n",
    "\n",
    "for index, h_ex_pick in enumerate(h_ex_set):\n",
    "\n",
    "    h_ex_p = h_ex_pick + pulse\n",
    "\n",
    "    y_pert = odeint(func=single_oscillator_pert, y0=y_in_sets[index], t=time, \n",
    "                        args=(h_ex_p, h_in_0, pars, sr, time_stop_freq), \n",
    "                        hmax=0.1)\n",
    "\n",
    "\n",
    "    ax[0].plot(y_pert[:, 0], colours[index], label=h_ex_pick);\n",
    "\n",
    "    ax[0].set_ylim(-2.5, 4)\n",
    "    ax[0].set_xticks(linspace(0, time_stop_freq*sr, 5));\n",
    "    ax[0].set_xticklabels(linspace(0, time_stop_freq, 5));\n",
    "    ax[0].set_xlabel('Time', fontsize=12);\n",
    "    ax[0].set_ylabel('Ex', fontsize=12);\n",
    "\n",
    "    ax[1].plot(y_pert[:, 1], y_pert[:, 0], colours[index], label=h_ex_pick);\n",
    "    ax[1].set_xlim(-15, 4)\n",
    "    ax[1].set_ylim(-3, 4)\n",
    "    ax[1].set_xlabel('In', fontsize=12);\n",
    "    ax[1].set_ylabel('Ex', fontsize=12);\n",
    "\n",
    "ax[1].legend(loc='upper left')\n",
    "ax[0].plot(h_ex_p, 'gray', label='Stim');\n",
    "ax[0].legend(loc='upper left')\n",
    "\n",
    "\n",
    "fig.tight_layout()\n",
    "\n",
    "\n",
    "\n",
    "title_chars = 'Figs/N=1/Fig_2Eb_FreqPert_series' + condition + '.png'\n",
    "\n",
    "# fig.savefig(title_chars, dpi=300, format='png', bbox_inches='tight')\n",
    "\n",
    "title_chars\n"
   ]
  },
  {
   "cell_type": "markdown",
   "metadata": {},
   "source": [
    "###### Time series of an abnormal response of model eq. (1) with periodic pulse perturbation at a specific frequency. Other conditions as in the previous figure.\n"
   ]
  },
  {
   "cell_type": "code",
   "execution_count": null,
   "metadata": {},
   "outputs": [],
   "source": []
  },
  {
   "cell_type": "code",
   "execution_count": null,
   "metadata": {},
   "outputs": [],
   "source": []
  }
 ],
 "metadata": {
  "kernelspec": {
   "display_name": "Python 3 (ipykernel)",
   "language": "python",
   "name": "python3"
  },
  "language_info": {
   "codemirror_mode": {
    "name": "ipython",
    "version": 3
   },
   "file_extension": ".py",
   "mimetype": "text/x-python",
   "name": "python",
   "nbconvert_exporter": "python",
   "pygments_lexer": "ipython3",
   "version": "3.12.7"
  },
  "toc-autonumbering": false,
  "widgets": {
   "state": {
    "5422d38f63604076b5b082e547280e48": {
     "views": [
      {
       "cell_index": 2
      }
     ]
    }
   },
   "version": "1.2.0"
  }
 },
 "nbformat": 4,
 "nbformat_minor": 4
}
